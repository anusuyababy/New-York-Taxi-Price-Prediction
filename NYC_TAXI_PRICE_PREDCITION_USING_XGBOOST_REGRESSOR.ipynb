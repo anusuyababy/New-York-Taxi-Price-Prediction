{
  "nbformat": 4,
  "nbformat_minor": 0,
  "metadata": {
    "colab": {
      "name": "NYC TAXI PRICE PREDCITION USING XGBOOST REGRESSOR",
      "provenance": []
    },
    "kernelspec": {
      "name": "python3",
      "display_name": "Python 3"
    },
    "accelerator": "GPU"
  },
  "cells": [
    {
      "cell_type": "code",
      "metadata": {
        "id": "SFVnAYNSrunE"
      },
      "source": [
        "import pandas as pd\r\n",
        "import numpy as np\r\n",
        "import datetime\r\n",
        "import matplotlib.pyplot as plt\r\n",
        "import seaborn as sns\r\n",
        "%matplotlib inline"
      ],
      "execution_count": 259,
      "outputs": []
    },
    {
      "cell_type": "code",
      "metadata": {
        "colab": {
          "base_uri": "https://localhost:8080/",
          "height": 313
        },
        "id": "r985vippsU5_",
        "outputId": "2b90d84f-27bc-4428-d593-9a2e31bb1fd1"
      },
      "source": [
        "df=pd.read_csv('taxi.csv')\r\n",
        "df.head()"
      ],
      "execution_count": 260,
      "outputs": [
        {
          "output_type": "execute_result",
          "data": {
            "text/html": [
              "<div>\n",
              "<style scoped>\n",
              "    .dataframe tbody tr th:only-of-type {\n",
              "        vertical-align: middle;\n",
              "    }\n",
              "\n",
              "    .dataframe tbody tr th {\n",
              "        vertical-align: top;\n",
              "    }\n",
              "\n",
              "    .dataframe thead th {\n",
              "        text-align: right;\n",
              "    }\n",
              "</style>\n",
              "<table border=\"1\" class=\"dataframe\">\n",
              "  <thead>\n",
              "    <tr style=\"text-align: right;\">\n",
              "      <th></th>\n",
              "      <th>pickup_datetime</th>\n",
              "      <th>fare_amount</th>\n",
              "      <th>fare_class</th>\n",
              "      <th>pickup_longitude</th>\n",
              "      <th>pickup_latitude</th>\n",
              "      <th>dropoff_longitude</th>\n",
              "      <th>dropoff_latitude</th>\n",
              "      <th>passenger_count</th>\n",
              "    </tr>\n",
              "  </thead>\n",
              "  <tbody>\n",
              "    <tr>\n",
              "      <th>0</th>\n",
              "      <td>2010-04-19 08:17:56 UTC</td>\n",
              "      <td>6.5</td>\n",
              "      <td>0</td>\n",
              "      <td>-73.992365</td>\n",
              "      <td>40.730521</td>\n",
              "      <td>-73.975499</td>\n",
              "      <td>40.744746</td>\n",
              "      <td>1</td>\n",
              "    </tr>\n",
              "    <tr>\n",
              "      <th>1</th>\n",
              "      <td>2010-04-17 15:43:53 UTC</td>\n",
              "      <td>6.9</td>\n",
              "      <td>0</td>\n",
              "      <td>-73.990078</td>\n",
              "      <td>40.740558</td>\n",
              "      <td>-73.974232</td>\n",
              "      <td>40.744114</td>\n",
              "      <td>1</td>\n",
              "    </tr>\n",
              "    <tr>\n",
              "      <th>2</th>\n",
              "      <td>2010-04-17 11:23:26 UTC</td>\n",
              "      <td>10.1</td>\n",
              "      <td>1</td>\n",
              "      <td>-73.994149</td>\n",
              "      <td>40.751118</td>\n",
              "      <td>-73.960064</td>\n",
              "      <td>40.766235</td>\n",
              "      <td>2</td>\n",
              "    </tr>\n",
              "    <tr>\n",
              "      <th>3</th>\n",
              "      <td>2010-04-11 21:25:03 UTC</td>\n",
              "      <td>8.9</td>\n",
              "      <td>0</td>\n",
              "      <td>-73.990485</td>\n",
              "      <td>40.756422</td>\n",
              "      <td>-73.971205</td>\n",
              "      <td>40.748192</td>\n",
              "      <td>1</td>\n",
              "    </tr>\n",
              "    <tr>\n",
              "      <th>4</th>\n",
              "      <td>2010-04-17 02:19:01 UTC</td>\n",
              "      <td>19.7</td>\n",
              "      <td>1</td>\n",
              "      <td>-73.990976</td>\n",
              "      <td>40.734202</td>\n",
              "      <td>-73.905956</td>\n",
              "      <td>40.743115</td>\n",
              "      <td>1</td>\n",
              "    </tr>\n",
              "  </tbody>\n",
              "</table>\n",
              "</div>"
            ],
            "text/plain": [
              "           pickup_datetime  fare_amount  ...  dropoff_latitude  passenger_count\n",
              "0  2010-04-19 08:17:56 UTC          6.5  ...         40.744746                1\n",
              "1  2010-04-17 15:43:53 UTC          6.9  ...         40.744114                1\n",
              "2  2010-04-17 11:23:26 UTC         10.1  ...         40.766235                2\n",
              "3  2010-04-11 21:25:03 UTC          8.9  ...         40.748192                1\n",
              "4  2010-04-17 02:19:01 UTC         19.7  ...         40.743115                1\n",
              "\n",
              "[5 rows x 8 columns]"
            ]
          },
          "metadata": {
            "tags": []
          },
          "execution_count": 260
        }
      ]
    },
    {
      "cell_type": "code",
      "metadata": {
        "colab": {
          "base_uri": "https://localhost:8080/"
        },
        "id": "OGF4JHrpsU_I",
        "outputId": "eb7a7476-65f4-4466-f5e1-bb7b37d984e0"
      },
      "source": [
        "df.shape"
      ],
      "execution_count": 261,
      "outputs": [
        {
          "output_type": "execute_result",
          "data": {
            "text/plain": [
              "(120000, 8)"
            ]
          },
          "metadata": {
            "tags": []
          },
          "execution_count": 261
        }
      ]
    },
    {
      "cell_type": "code",
      "metadata": {
        "colab": {
          "base_uri": "https://localhost:8080/"
        },
        "id": "wRhJ1gWOsVK7",
        "outputId": "bac6c046-6ede-41b8-b58a-4a2748eefa2e"
      },
      "source": [
        "df.isnull().sum()"
      ],
      "execution_count": 262,
      "outputs": [
        {
          "output_type": "execute_result",
          "data": {
            "text/plain": [
              "pickup_datetime      0\n",
              "fare_amount          0\n",
              "fare_class           0\n",
              "pickup_longitude     0\n",
              "pickup_latitude      0\n",
              "dropoff_longitude    0\n",
              "dropoff_latitude     0\n",
              "passenger_count      0\n",
              "dtype: int64"
            ]
          },
          "metadata": {
            "tags": []
          },
          "execution_count": 262
        }
      ]
    },
    {
      "cell_type": "code",
      "metadata": {
        "colab": {
          "base_uri": "https://localhost:8080/"
        },
        "id": "dKnzBP3TsVNn",
        "outputId": "e7a020eb-1dee-4ca4-d3b9-101e9251e8cd"
      },
      "source": [
        "df.info()"
      ],
      "execution_count": 263,
      "outputs": [
        {
          "output_type": "stream",
          "text": [
            "<class 'pandas.core.frame.DataFrame'>\n",
            "RangeIndex: 120000 entries, 0 to 119999\n",
            "Data columns (total 8 columns):\n",
            " #   Column             Non-Null Count   Dtype  \n",
            "---  ------             --------------   -----  \n",
            " 0   pickup_datetime    120000 non-null  object \n",
            " 1   fare_amount        120000 non-null  float64\n",
            " 2   fare_class         120000 non-null  int64  \n",
            " 3   pickup_longitude   120000 non-null  float64\n",
            " 4   pickup_latitude    120000 non-null  float64\n",
            " 5   dropoff_longitude  120000 non-null  float64\n",
            " 6   dropoff_latitude   120000 non-null  float64\n",
            " 7   passenger_count    120000 non-null  int64  \n",
            "dtypes: float64(5), int64(2), object(1)\n",
            "memory usage: 7.3+ MB\n"
          ],
          "name": "stdout"
        }
      ]
    },
    {
      "cell_type": "markdown",
      "metadata": {
        "id": "6L3-jrWysyNX"
      },
      "source": [
        "## FEATURE ENGINEERING"
      ]
    },
    {
      "cell_type": "markdown",
      "metadata": {
        "id": "C7ZbIIvS752o"
      },
      "source": [
        "## FEATURE ENGINEERING FOR DATETIME FEATURE"
      ]
    },
    {
      "cell_type": "code",
      "metadata": {
        "colab": {
          "base_uri": "https://localhost:8080/"
        },
        "id": "-cvtECPTsVRn",
        "outputId": "3eb08423-c3e9-4ddf-b3e3-f0cbe6890885"
      },
      "source": [
        "# only for date and time period column\r\n",
        "pd.to_datetime(df['pickup_datetime'])"
      ],
      "execution_count": 264,
      "outputs": [
        {
          "output_type": "execute_result",
          "data": {
            "text/plain": [
              "0        2010-04-19 08:17:56+00:00\n",
              "1        2010-04-17 15:43:53+00:00\n",
              "2        2010-04-17 11:23:26+00:00\n",
              "3        2010-04-11 21:25:03+00:00\n",
              "4        2010-04-17 02:19:01+00:00\n",
              "                    ...           \n",
              "119995   2010-04-18 14:33:03+00:00\n",
              "119996   2010-04-23 10:27:48+00:00\n",
              "119997   2010-04-18 18:50:40+00:00\n",
              "119998   2010-04-13 08:14:44+00:00\n",
              "119999   2010-04-17 16:00:14+00:00\n",
              "Name: pickup_datetime, Length: 120000, dtype: datetime64[ns, UTC]"
            ]
          },
          "metadata": {
            "tags": []
          },
          "execution_count": 264
        }
      ]
    },
    {
      "cell_type": "code",
      "metadata": {
        "colab": {
          "base_uri": "https://localhost:8080/"
        },
        "id": "k4r2xnfisVUS",
        "outputId": "2588fbda-9497-4c3b-b185-5c02f7a79fe8"
      },
      "source": [
        "datetime.timedelta(hours=2)"
      ],
      "execution_count": 265,
      "outputs": [
        {
          "output_type": "execute_result",
          "data": {
            "text/plain": [
              "datetime.timedelta(0, 7200)"
            ]
          },
          "metadata": {
            "tags": []
          },
          "execution_count": 265
        }
      ]
    },
    {
      "cell_type": "code",
      "metadata": {
        "id": "Ws35EmcjsVam",
        "colab": {
          "base_uri": "https://localhost:8080/"
        },
        "outputId": "b2445930-2c8a-4011-ccfd-d207f6d15919"
      },
      "source": [
        "df['pickup_datetime']=pd.to_datetime(df['pickup_datetime'], errors='coerce')\r\n",
        "df['pickup_datetime']"
      ],
      "execution_count": 266,
      "outputs": [
        {
          "output_type": "execute_result",
          "data": {
            "text/plain": [
              "0        2010-04-19 08:17:56+00:00\n",
              "1        2010-04-17 15:43:53+00:00\n",
              "2        2010-04-17 11:23:26+00:00\n",
              "3        2010-04-11 21:25:03+00:00\n",
              "4        2010-04-17 02:19:01+00:00\n",
              "                    ...           \n",
              "119995   2010-04-18 14:33:03+00:00\n",
              "119996   2010-04-23 10:27:48+00:00\n",
              "119997   2010-04-18 18:50:40+00:00\n",
              "119998   2010-04-13 08:14:44+00:00\n",
              "119999   2010-04-17 16:00:14+00:00\n",
              "Name: pickup_datetime, Length: 120000, dtype: datetime64[ns, UTC]"
            ]
          },
          "metadata": {
            "tags": []
          },
          "execution_count": 266
        }
      ]
    },
    {
      "cell_type": "code",
      "metadata": {
        "colab": {
          "base_uri": "https://localhost:8080/"
        },
        "id": "q-K2EC1AsVeb",
        "outputId": "ef7116ec-a9f1-4159-9039-c3cc5be021c5"
      },
      "source": [
        "df['pickup_datetime'].dt.month"
      ],
      "execution_count": 267,
      "outputs": [
        {
          "output_type": "execute_result",
          "data": {
            "text/plain": [
              "0         4\n",
              "1         4\n",
              "2         4\n",
              "3         4\n",
              "4         4\n",
              "         ..\n",
              "119995    4\n",
              "119996    4\n",
              "119997    4\n",
              "119998    4\n",
              "119999    4\n",
              "Name: pickup_datetime, Length: 120000, dtype: int64"
            ]
          },
          "metadata": {
            "tags": []
          },
          "execution_count": 267
        }
      ]
    },
    {
      "cell_type": "code",
      "metadata": {
        "id": "yhZUcKPaHfy0"
      },
      "source": [
        "df['Year']=df['pickup_datetime'].dt.year\r\n",
        "df['Month']=df['pickup_datetime'].dt.month\r\n",
        "df['Day']=df['pickup_datetime'].dt.day\r\n",
        "df['Hours']=df['pickup_datetime'].dt.hour\r\n",
        "df['Minutes']=df['pickup_datetime'].dt.minute"
      ],
      "execution_count": 268,
      "outputs": []
    },
    {
      "cell_type": "code",
      "metadata": {
        "id": "DPLRGuEbsVgq",
        "colab": {
          "base_uri": "https://localhost:8080/",
          "height": 706
        },
        "outputId": "1f117891-43bb-4959-ff3d-11d5055642eb"
      },
      "source": [
        "## New York latitude is 40.7 and longititude is 74.0\r\n",
        "fig, ax = plt.subplots(3,3,figsize = (30,15))\r\n",
        "sns.distplot(df[\"pickup_longitude\"], kde =True, ax=ax[0,0], color = \"blue\")\r\n",
        "sns.distplot(df[\"pickup_latitude\"], kde =True, ax=ax[0,1], color = \"black\")\r\n",
        "sns.distplot(df[\"dropoff_longitude\"], kde =True, ax=ax[1,0], color = \"magenta\")\r\n",
        "sns.distplot(df[\"dropoff_latitude\"], kde =True, ax=ax[1,1])\r\n",
        "sns.distplot(df[\"fare_amount\"], kde =True, ax=ax[2,0])"
      ],
      "execution_count": 269,
      "outputs": [
        {
          "output_type": "stream",
          "text": [
            "/usr/local/lib/python3.6/dist-packages/seaborn/distributions.py:2551: FutureWarning: `distplot` is a deprecated function and will be removed in a future version. Please adapt your code to use either `displot` (a figure-level function with similar flexibility) or `histplot` (an axes-level function for histograms).\n",
            "  warnings.warn(msg, FutureWarning)\n",
            "/usr/local/lib/python3.6/dist-packages/seaborn/distributions.py:2551: FutureWarning: `distplot` is a deprecated function and will be removed in a future version. Please adapt your code to use either `displot` (a figure-level function with similar flexibility) or `histplot` (an axes-level function for histograms).\n",
            "  warnings.warn(msg, FutureWarning)\n",
            "/usr/local/lib/python3.6/dist-packages/seaborn/distributions.py:2551: FutureWarning: `distplot` is a deprecated function and will be removed in a future version. Please adapt your code to use either `displot` (a figure-level function with similar flexibility) or `histplot` (an axes-level function for histograms).\n",
            "  warnings.warn(msg, FutureWarning)\n",
            "/usr/local/lib/python3.6/dist-packages/seaborn/distributions.py:2551: FutureWarning: `distplot` is a deprecated function and will be removed in a future version. Please adapt your code to use either `displot` (a figure-level function with similar flexibility) or `histplot` (an axes-level function for histograms).\n",
            "  warnings.warn(msg, FutureWarning)\n",
            "/usr/local/lib/python3.6/dist-packages/seaborn/distributions.py:2551: FutureWarning: `distplot` is a deprecated function and will be removed in a future version. Please adapt your code to use either `displot` (a figure-level function with similar flexibility) or `histplot` (an axes-level function for histograms).\n",
            "  warnings.warn(msg, FutureWarning)\n"
          ],
          "name": "stderr"
        },
        {
          "output_type": "execute_result",
          "data": {
            "text/plain": [
              "<matplotlib.axes._subplots.AxesSubplot at 0x7f1770c97048>"
            ]
          },
          "metadata": {
            "tags": []
          },
          "execution_count": 269
        },
        {
          "output_type": "display_data",
          "data": {
            "image/png": "[encoded data removed]",
            "text/plain": [
              "<Figure size 2160x1080 with 9 Axes>"
            ]
          },
          "metadata": {
            "tags": [],
            "needs_background": "light"
          }
        }
      ]
    },
    {
      "cell_type": "code",
      "metadata": {
        "id": "VTKJxlEH9kT9",
        "colab": {
          "base_uri": "https://localhost:8080/",
          "height": 355
        },
        "outputId": "5c9545f4-6598-417a-c64f-ec6261de043a"
      },
      "source": [
        "sns.countplot(df[\"fare_class\"], color = \"blue\")"
      ],
      "execution_count": 270,
      "outputs": [
        {
          "output_type": "stream",
          "text": [
            "/usr/local/lib/python3.6/dist-packages/seaborn/_decorators.py:43: FutureWarning: Pass the following variable as a keyword arg: x. From version 0.12, the only valid positional argument will be `data`, and passing other arguments without an explicit keyword will result in an error or misinterpretation.\n",
            "  FutureWarning\n"
          ],
          "name": "stderr"
        },
        {
          "output_type": "execute_result",
          "data": {
            "text/plain": [
              "<matplotlib.axes._subplots.AxesSubplot at 0x7f17716eccf8>"
            ]
          },
          "metadata": {
            "tags": []
          },
          "execution_count": 270
        },
        {
          "output_type": "display_data",
          "data": {
            "image/png": "[encoded data removed]",
            "text/plain": [
              "<Figure size 432x288 with 1 Axes>"
            ]
          },
          "metadata": {
            "tags": [],
            "needs_background": "light"
          }
        }
      ]
    },
    {
      "cell_type": "code",
      "metadata": {
        "colab": {
          "base_uri": "https://localhost:8080/",
          "height": 355
        },
        "id": "0GNTtBzVIBWN",
        "outputId": "20f6139a-a004-4667-be5f-4b2f7fd88c74"
      },
      "source": [
        "sns.countplot(df[\"passenger_count\"], color = \"black\")"
      ],
      "execution_count": 271,
      "outputs": [
        {
          "output_type": "stream",
          "text": [
            "/usr/local/lib/python3.6/dist-packages/seaborn/_decorators.py:43: FutureWarning: Pass the following variable as a keyword arg: x. From version 0.12, the only valid positional argument will be `data`, and passing other arguments without an explicit keyword will result in an error or misinterpretation.\n",
            "  FutureWarning\n"
          ],
          "name": "stderr"
        },
        {
          "output_type": "execute_result",
          "data": {
            "text/plain": [
              "<matplotlib.axes._subplots.AxesSubplot at 0x7f17708add68>"
            ]
          },
          "metadata": {
            "tags": []
          },
          "execution_count": 271
        },
        {
          "output_type": "display_data",
          "data": {
            "image/png": "[encoded data removed]",
            "text/plain": [
              "<Figure size 432x288 with 1 Axes>"
            ]
          },
          "metadata": {
            "tags": [],
            "needs_background": "light"
          }
        }
      ]
    },
    {
      "cell_type": "markdown",
      "metadata": {
        "id": "sn7tum5gCJb8"
      },
      "source": [
        "## HAVERSINE DISTANCE FOR LONGITITUDES AND LATITUDES"
      ]
    },
    {
      "cell_type": "code",
      "metadata": {
        "id": "_ZdjPBFmCQ45",
        "colab": {
          "base_uri": "https://localhost:8080/"
        },
        "outputId": "36985195-ebd6-4023-ae62-38a56cd3412f"
      },
      "source": [
        "np.radians(-73.992365)"
      ],
      "execution_count": 272,
      "outputs": [
        {
          "output_type": "execute_result",
          "data": {
            "text/plain": [
              "-1.2914103905874141"
            ]
          },
          "metadata": {
            "tags": []
          },
          "execution_count": 272
        }
      ]
    },
    {
      "cell_type": "code",
      "metadata": {
        "id": "gSDuah9BCRMG",
        "colab": {
          "base_uri": "https://localhost:8080/"
        },
        "outputId": "60b3ff09-5e93-458d-8955-5828dd85f3b8"
      },
      "source": [
        "np.radians(40.730521)"
      ],
      "execution_count": 273,
      "outputs": [
        {
          "output_type": "execute_result",
          "data": {
            "text/plain": [
              "0.7108816975026934"
            ]
          },
          "metadata": {
            "tags": []
          },
          "execution_count": 273
        }
      ]
    },
    {
      "cell_type": "code",
      "metadata": {
        "id": "C8pEstLTD87v"
      },
      "source": [
        "# https://stackoverflow.com/questions/4913349/haversine-formula-in-python-bearing-and-distance-between-two-gps-points\r\n",
        "# calculate the distance between two gps points. \r\n",
        "#r = 6371 (i.e) Radius of earth in kilometers. Use 3956 for miles\r\n",
        "def haversine(p_lat, p_long, d_lat, d_long):\r\n",
        "    p_lat, p_long, d_lat, d_long = map(np.radians,[p_lat, p_long, d_lat, d_long])\r\n",
        "    dlat = d_lat-p_lat\r\n",
        "    dlong = d_long-p_long\r\n",
        "    a = np.sin(dlat/2)**2 + np.cos(p_lat) * np.cos(d_lat) * np.sin(dlong/2)**2\r\n",
        "    c = 2 * np.arctan2(np.sqrt(a), np.sqrt(1-a))\r\n",
        "    r = 6371 \r\n",
        "    return c * r"
      ],
      "execution_count": 274,
      "outputs": []
    },
    {
      "cell_type": "code",
      "metadata": {
        "id": "KJoHRAZeD_qs",
        "colab": {
          "base_uri": "https://localhost:8080/",
          "height": 0
        },
        "outputId": "be1b9918-c7d8-44d4-cfb1-385bd038f5c5"
      },
      "source": [
        "df['Total_distance']=haversine(df.pickup_latitude, df.pickup_longitude, df.dropoff_latitude, df.dropoff_longitude)\r\n",
        "df.head()"
      ],
      "execution_count": 275,
      "outputs": [
        {
          "output_type": "execute_result",
          "data": {
            "text/html": [
              "<div>\n",
              "<style scoped>\n",
              "    .dataframe tbody tr th:only-of-type {\n",
              "        vertical-align: middle;\n",
              "    }\n",
              "\n",
              "    .dataframe tbody tr th {\n",
              "        vertical-align: top;\n",
              "    }\n",
              "\n",
              "    .dataframe thead th {\n",
              "        text-align: right;\n",
              "    }\n",
              "</style>\n",
              "<table border=\"1\" class=\"dataframe\">\n",
              "  <thead>\n",
              "    <tr style=\"text-align: right;\">\n",
              "      <th></th>\n",
              "      <th>pickup_datetime</th>\n",
              "      <th>fare_amount</th>\n",
              "      <th>fare_class</th>\n",
              "      <th>pickup_longitude</th>\n",
              "      <th>pickup_latitude</th>\n",
              "      <th>dropoff_longitude</th>\n",
              "      <th>dropoff_latitude</th>\n",
              "      <th>passenger_count</th>\n",
              "      <th>Year</th>\n",
              "      <th>Month</th>\n",
              "      <th>Day</th>\n",
              "      <th>Hours</th>\n",
              "      <th>Minutes</th>\n",
              "      <th>Total_distance</th>\n",
              "    </tr>\n",
              "  </thead>\n",
              "  <tbody>\n",
              "    <tr>\n",
              "      <th>0</th>\n",
              "      <td>2010-04-19 08:17:56+00:00</td>\n",
              "      <td>6.5</td>\n",
              "      <td>0</td>\n",
              "      <td>-73.992365</td>\n",
              "      <td>40.730521</td>\n",
              "      <td>-73.975499</td>\n",
              "      <td>40.744746</td>\n",
              "      <td>1</td>\n",
              "      <td>2010</td>\n",
              "      <td>4</td>\n",
              "      <td>19</td>\n",
              "      <td>8</td>\n",
              "      <td>17</td>\n",
              "      <td>2.126312</td>\n",
              "    </tr>\n",
              "    <tr>\n",
              "      <th>1</th>\n",
              "      <td>2010-04-17 15:43:53+00:00</td>\n",
              "      <td>6.9</td>\n",
              "      <td>0</td>\n",
              "      <td>-73.990078</td>\n",
              "      <td>40.740558</td>\n",
              "      <td>-73.974232</td>\n",
              "      <td>40.744114</td>\n",
              "      <td>1</td>\n",
              "      <td>2010</td>\n",
              "      <td>4</td>\n",
              "      <td>17</td>\n",
              "      <td>15</td>\n",
              "      <td>43</td>\n",
              "      <td>1.392307</td>\n",
              "    </tr>\n",
              "    <tr>\n",
              "      <th>2</th>\n",
              "      <td>2010-04-17 11:23:26+00:00</td>\n",
              "      <td>10.1</td>\n",
              "      <td>1</td>\n",
              "      <td>-73.994149</td>\n",
              "      <td>40.751118</td>\n",
              "      <td>-73.960064</td>\n",
              "      <td>40.766235</td>\n",
              "      <td>2</td>\n",
              "      <td>2010</td>\n",
              "      <td>4</td>\n",
              "      <td>17</td>\n",
              "      <td>11</td>\n",
              "      <td>23</td>\n",
              "      <td>3.326763</td>\n",
              "    </tr>\n",
              "    <tr>\n",
              "      <th>3</th>\n",
              "      <td>2010-04-11 21:25:03+00:00</td>\n",
              "      <td>8.9</td>\n",
              "      <td>0</td>\n",
              "      <td>-73.990485</td>\n",
              "      <td>40.756422</td>\n",
              "      <td>-73.971205</td>\n",
              "      <td>40.748192</td>\n",
              "      <td>1</td>\n",
              "      <td>2010</td>\n",
              "      <td>4</td>\n",
              "      <td>11</td>\n",
              "      <td>21</td>\n",
              "      <td>25</td>\n",
              "      <td>1.864129</td>\n",
              "    </tr>\n",
              "    <tr>\n",
              "      <th>4</th>\n",
              "      <td>2010-04-17 02:19:01+00:00</td>\n",
              "      <td>19.7</td>\n",
              "      <td>1</td>\n",
              "      <td>-73.990976</td>\n",
              "      <td>40.734202</td>\n",
              "      <td>-73.905956</td>\n",
              "      <td>40.743115</td>\n",
              "      <td>1</td>\n",
              "      <td>2010</td>\n",
              "      <td>4</td>\n",
              "      <td>17</td>\n",
              "      <td>2</td>\n",
              "      <td>19</td>\n",
              "      <td>7.231321</td>\n",
              "    </tr>\n",
              "  </tbody>\n",
              "</table>\n",
              "</div>"
            ],
            "text/plain": [
              "            pickup_datetime  fare_amount  ...  Minutes  Total_distance\n",
              "0 2010-04-19 08:17:56+00:00          6.5  ...       17        2.126312\n",
              "1 2010-04-17 15:43:53+00:00          6.9  ...       43        1.392307\n",
              "2 2010-04-17 11:23:26+00:00         10.1  ...       23        3.326763\n",
              "3 2010-04-11 21:25:03+00:00          8.9  ...       25        1.864129\n",
              "4 2010-04-17 02:19:01+00:00         19.7  ...       19        7.231321\n",
              "\n",
              "[5 rows x 14 columns]"
            ]
          },
          "metadata": {
            "tags": []
          },
          "execution_count": 275
        }
      ]
    },
    {
      "cell_type": "code",
      "metadata": {
        "id": "QBp_87gN_0Iz",
        "colab": {
          "base_uri": "https://localhost:8080/",
          "height": 0
        },
        "outputId": "7747c48d-6f4e-4178-c6f4-4fb184717c59"
      },
      "source": [
        "sns.distplot(df[\"Total_distance\"], kde =True)"
      ],
      "execution_count": 276,
      "outputs": [
        {
          "output_type": "stream",
          "text": [
            "/usr/local/lib/python3.6/dist-packages/seaborn/distributions.py:2551: FutureWarning: `distplot` is a deprecated function and will be removed in a future version. Please adapt your code to use either `displot` (a figure-level function with similar flexibility) or `histplot` (an axes-level function for histograms).\n",
            "  warnings.warn(msg, FutureWarning)\n"
          ],
          "name": "stderr"
        },
        {
          "output_type": "execute_result",
          "data": {
            "text/plain": [
              "<matplotlib.axes._subplots.AxesSubplot at 0x7f17707b6320>"
            ]
          },
          "metadata": {
            "tags": []
          },
          "execution_count": 276
        },
        {
          "output_type": "display_data",
          "data": {
            "image/png": "[encoded data removed]",
            "text/plain": [
              "<Figure size 432x288 with 1 Axes>"
            ]
          },
          "metadata": {
            "tags": [],
            "needs_background": "light"
          }
        }
      ]
    },
    {
      "cell_type": "code",
      "metadata": {
        "colab": {
          "base_uri": "https://localhost:8080/",
          "height": 0
        },
        "id": "_4O54X2wLUAp",
        "outputId": "c6c5035d-bbe7-4c65-88df-005c04030234"
      },
      "source": [
        "sns.distplot(df[\"fare_amount\"], kde =True)"
      ],
      "execution_count": 277,
      "outputs": [
        {
          "output_type": "stream",
          "text": [
            "/usr/local/lib/python3.6/dist-packages/seaborn/distributions.py:2551: FutureWarning: `distplot` is a deprecated function and will be removed in a future version. Please adapt your code to use either `displot` (a figure-level function with similar flexibility) or `histplot` (an axes-level function for histograms).\n",
            "  warnings.warn(msg, FutureWarning)\n"
          ],
          "name": "stderr"
        },
        {
          "output_type": "execute_result",
          "data": {
            "text/plain": [
              "<matplotlib.axes._subplots.AxesSubplot at 0x7f1770701b00>"
            ]
          },
          "metadata": {
            "tags": []
          },
          "execution_count": 277
        },
        {
          "output_type": "display_data",
          "data": {
            "image/png": "[encoded data removed]",
            "text/plain": [
              "<Figure size 432x288 with 1 Axes>"
            ]
          },
          "metadata": {
            "tags": [],
            "needs_background": "light"
          }
        }
      ]
    },
    {
      "cell_type": "code",
      "metadata": {
        "id": "MEq4suE0_0Me",
        "colab": {
          "base_uri": "https://localhost:8080/",
          "height": 0
        },
        "outputId": "0fc895c0-166c-43b4-9416-f11e316cb09c"
      },
      "source": [
        "df.drop([\"pickup_longitude\", \"pickup_latitude\", \"dropoff_longitude\", \"dropoff_latitude\", \"pickup_datetime\"], axis=1, inplace=True)\r\n",
        "df.head()"
      ],
      "execution_count": 278,
      "outputs": [
        {
          "output_type": "execute_result",
          "data": {
            "text/html": [
              "<div>\n",
              "<style scoped>\n",
              "    .dataframe tbody tr th:only-of-type {\n",
              "        vertical-align: middle;\n",
              "    }\n",
              "\n",
              "    .dataframe tbody tr th {\n",
              "        vertical-align: top;\n",
              "    }\n",
              "\n",
              "    .dataframe thead th {\n",
              "        text-align: right;\n",
              "    }\n",
              "</style>\n",
              "<table border=\"1\" class=\"dataframe\">\n",
              "  <thead>\n",
              "    <tr style=\"text-align: right;\">\n",
              "      <th></th>\n",
              "      <th>fare_amount</th>\n",
              "      <th>fare_class</th>\n",
              "      <th>passenger_count</th>\n",
              "      <th>Year</th>\n",
              "      <th>Month</th>\n",
              "      <th>Day</th>\n",
              "      <th>Hours</th>\n",
              "      <th>Minutes</th>\n",
              "      <th>Total_distance</th>\n",
              "    </tr>\n",
              "  </thead>\n",
              "  <tbody>\n",
              "    <tr>\n",
              "      <th>0</th>\n",
              "      <td>6.5</td>\n",
              "      <td>0</td>\n",
              "      <td>1</td>\n",
              "      <td>2010</td>\n",
              "      <td>4</td>\n",
              "      <td>19</td>\n",
              "      <td>8</td>\n",
              "      <td>17</td>\n",
              "      <td>2.126312</td>\n",
              "    </tr>\n",
              "    <tr>\n",
              "      <th>1</th>\n",
              "      <td>6.9</td>\n",
              "      <td>0</td>\n",
              "      <td>1</td>\n",
              "      <td>2010</td>\n",
              "      <td>4</td>\n",
              "      <td>17</td>\n",
              "      <td>15</td>\n",
              "      <td>43</td>\n",
              "      <td>1.392307</td>\n",
              "    </tr>\n",
              "    <tr>\n",
              "      <th>2</th>\n",
              "      <td>10.1</td>\n",
              "      <td>1</td>\n",
              "      <td>2</td>\n",
              "      <td>2010</td>\n",
              "      <td>4</td>\n",
              "      <td>17</td>\n",
              "      <td>11</td>\n",
              "      <td>23</td>\n",
              "      <td>3.326763</td>\n",
              "    </tr>\n",
              "    <tr>\n",
              "      <th>3</th>\n",
              "      <td>8.9</td>\n",
              "      <td>0</td>\n",
              "      <td>1</td>\n",
              "      <td>2010</td>\n",
              "      <td>4</td>\n",
              "      <td>11</td>\n",
              "      <td>21</td>\n",
              "      <td>25</td>\n",
              "      <td>1.864129</td>\n",
              "    </tr>\n",
              "    <tr>\n",
              "      <th>4</th>\n",
              "      <td>19.7</td>\n",
              "      <td>1</td>\n",
              "      <td>1</td>\n",
              "      <td>2010</td>\n",
              "      <td>4</td>\n",
              "      <td>17</td>\n",
              "      <td>2</td>\n",
              "      <td>19</td>\n",
              "      <td>7.231321</td>\n",
              "    </tr>\n",
              "  </tbody>\n",
              "</table>\n",
              "</div>"
            ],
            "text/plain": [
              "   fare_amount  fare_class  passenger_count  ...  Hours  Minutes  Total_distance\n",
              "0          6.5           0                1  ...      8       17        2.126312\n",
              "1          6.9           0                1  ...     15       43        1.392307\n",
              "2         10.1           1                2  ...     11       23        3.326763\n",
              "3          8.9           0                1  ...     21       25        1.864129\n",
              "4         19.7           1                1  ...      2       19        7.231321\n",
              "\n",
              "[5 rows x 9 columns]"
            ]
          },
          "metadata": {
            "tags": []
          },
          "execution_count": 278
        }
      ]
    },
    {
      "cell_type": "code",
      "metadata": {
        "colab": {
          "base_uri": "https://localhost:8080/",
          "height": 0
        },
        "id": "bXgDhfZ5-7GB",
        "outputId": "f51ee4b3-3521-4f7c-dcf9-d981995fdf38"
      },
      "source": [
        "fig, ax = plt.subplots(2,2,figsize = (30,15))\r\n",
        "sns.boxplot(df[\"fare_amount\"], ax=ax[0,0], color = \"blue\")\r\n",
        "sns.boxplot(df[\"Total_distance\"], ax=ax[0,1], color = \"black\")\r\n",
        "sns.boxplot(df[\"fare_class\"], ax=ax[1,0], color = \"magenta\")\r\n",
        "sns.boxplot(df[\"passenger_count\"], ax=ax[1,1])\r\n"
      ],
      "execution_count": 279,
      "outputs": [
        {
          "output_type": "stream",
          "text": [
            "/usr/local/lib/python3.6/dist-packages/seaborn/_decorators.py:43: FutureWarning: Pass the following variable as a keyword arg: x. From version 0.12, the only valid positional argument will be `data`, and passing other arguments without an explicit keyword will result in an error or misinterpretation.\n",
            "  FutureWarning\n",
            "/usr/local/lib/python3.6/dist-packages/seaborn/_decorators.py:43: FutureWarning: Pass the following variable as a keyword arg: x. From version 0.12, the only valid positional argument will be `data`, and passing other arguments without an explicit keyword will result in an error or misinterpretation.\n",
            "  FutureWarning\n",
            "/usr/local/lib/python3.6/dist-packages/seaborn/_decorators.py:43: FutureWarning: Pass the following variable as a keyword arg: x. From version 0.12, the only valid positional argument will be `data`, and passing other arguments without an explicit keyword will result in an error or misinterpretation.\n",
            "  FutureWarning\n",
            "/usr/local/lib/python3.6/dist-packages/seaborn/_decorators.py:43: FutureWarning: Pass the following variable as a keyword arg: x. From version 0.12, the only valid positional argument will be `data`, and passing other arguments without an explicit keyword will result in an error or misinterpretation.\n",
            "  FutureWarning\n"
          ],
          "name": "stderr"
        },
        {
          "output_type": "execute_result",
          "data": {
            "text/plain": [
              "<matplotlib.axes._subplots.AxesSubplot at 0x7f177051ab70>"
            ]
          },
          "metadata": {
            "tags": []
          },
          "execution_count": 279
        },
        {
          "output_type": "display_data",
          "data": {
            "image/png": "[encoded data removed]",
            "text/plain": [
              "<Figure size 2160x1080 with 4 Axes>"
            ]
          },
          "metadata": {
            "tags": [],
            "needs_background": "light"
          }
        }
      ]
    },
    {
      "cell_type": "markdown",
      "metadata": {
        "id": "SazR-eBuMDp7"
      },
      "source": [
        "## OUTLIERS REMOVAL"
      ]
    },
    {
      "cell_type": "code",
      "metadata": {
        "id": "VDY8wGwwAGo7",
        "colab": {
          "base_uri": "https://localhost:8080/",
          "height": 206
        },
        "outputId": "b6800441-89fc-452f-94d0-eebfc919a783"
      },
      "source": [
        "df.head()"
      ],
      "execution_count": 280,
      "outputs": [
        {
          "output_type": "execute_result",
          "data": {
            "text/html": [
              "<div>\n",
              "<style scoped>\n",
              "    .dataframe tbody tr th:only-of-type {\n",
              "        vertical-align: middle;\n",
              "    }\n",
              "\n",
              "    .dataframe tbody tr th {\n",
              "        vertical-align: top;\n",
              "    }\n",
              "\n",
              "    .dataframe thead th {\n",
              "        text-align: right;\n",
              "    }\n",
              "</style>\n",
              "<table border=\"1\" class=\"dataframe\">\n",
              "  <thead>\n",
              "    <tr style=\"text-align: right;\">\n",
              "      <th></th>\n",
              "      <th>fare_amount</th>\n",
              "      <th>fare_class</th>\n",
              "      <th>passenger_count</th>\n",
              "      <th>Year</th>\n",
              "      <th>Month</th>\n",
              "      <th>Day</th>\n",
              "      <th>Hours</th>\n",
              "      <th>Minutes</th>\n",
              "      <th>Total_distance</th>\n",
              "    </tr>\n",
              "  </thead>\n",
              "  <tbody>\n",
              "    <tr>\n",
              "      <th>0</th>\n",
              "      <td>6.5</td>\n",
              "      <td>0</td>\n",
              "      <td>1</td>\n",
              "      <td>2010</td>\n",
              "      <td>4</td>\n",
              "      <td>19</td>\n",
              "      <td>8</td>\n",
              "      <td>17</td>\n",
              "      <td>2.126312</td>\n",
              "    </tr>\n",
              "    <tr>\n",
              "      <th>1</th>\n",
              "      <td>6.9</td>\n",
              "      <td>0</td>\n",
              "      <td>1</td>\n",
              "      <td>2010</td>\n",
              "      <td>4</td>\n",
              "      <td>17</td>\n",
              "      <td>15</td>\n",
              "      <td>43</td>\n",
              "      <td>1.392307</td>\n",
              "    </tr>\n",
              "    <tr>\n",
              "      <th>2</th>\n",
              "      <td>10.1</td>\n",
              "      <td>1</td>\n",
              "      <td>2</td>\n",
              "      <td>2010</td>\n",
              "      <td>4</td>\n",
              "      <td>17</td>\n",
              "      <td>11</td>\n",
              "      <td>23</td>\n",
              "      <td>3.326763</td>\n",
              "    </tr>\n",
              "    <tr>\n",
              "      <th>3</th>\n",
              "      <td>8.9</td>\n",
              "      <td>0</td>\n",
              "      <td>1</td>\n",
              "      <td>2010</td>\n",
              "      <td>4</td>\n",
              "      <td>11</td>\n",
              "      <td>21</td>\n",
              "      <td>25</td>\n",
              "      <td>1.864129</td>\n",
              "    </tr>\n",
              "    <tr>\n",
              "      <th>4</th>\n",
              "      <td>19.7</td>\n",
              "      <td>1</td>\n",
              "      <td>1</td>\n",
              "      <td>2010</td>\n",
              "      <td>4</td>\n",
              "      <td>17</td>\n",
              "      <td>2</td>\n",
              "      <td>19</td>\n",
              "      <td>7.231321</td>\n",
              "    </tr>\n",
              "  </tbody>\n",
              "</table>\n",
              "</div>"
            ],
            "text/plain": [
              "   fare_amount  fare_class  passenger_count  ...  Hours  Minutes  Total_distance\n",
              "0          6.5           0                1  ...      8       17        2.126312\n",
              "1          6.9           0                1  ...     15       43        1.392307\n",
              "2         10.1           1                2  ...     11       23        3.326763\n",
              "3          8.9           0                1  ...     21       25        1.864129\n",
              "4         19.7           1                1  ...      2       19        7.231321\n",
              "\n",
              "[5 rows x 9 columns]"
            ]
          },
          "metadata": {
            "tags": []
          },
          "execution_count": 280
        }
      ]
    },
    {
      "cell_type": "code",
      "metadata": {
        "colab": {
          "base_uri": "https://localhost:8080/"
        },
        "id": "8_dbebDMoCBB",
        "outputId": "63b227c5-7c2e-48aa-82f2-91fe062a147f"
      },
      "source": [
        "df.shape"
      ],
      "execution_count": 281,
      "outputs": [
        {
          "output_type": "execute_result",
          "data": {
            "text/plain": [
              "(120000, 9)"
            ]
          },
          "metadata": {
            "tags": []
          },
          "execution_count": 281
        }
      ]
    },
    {
      "cell_type": "code",
      "metadata": {
        "colab": {
          "base_uri": "https://localhost:8080/",
          "height": 424
        },
        "id": "1sXb1TH-p7zJ",
        "outputId": "070f7d46-8b55-47b2-c47e-3c6510cb154e"
      },
      "source": [
        "# https://www.taxi-calculator.com/taxi-rate-new-york-city/259. Taking the information from the mentioned website. $ 4.10 = 1 km.\r\n",
        "df[(df['fare_amount'] > 4.6) & (df['Total_distance'] < 1)]"
      ],
      "execution_count": 282,
      "outputs": [
        {
          "output_type": "execute_result",
          "data": {
            "text/html": [
              "<div>\n",
              "<style scoped>\n",
              "    .dataframe tbody tr th:only-of-type {\n",
              "        vertical-align: middle;\n",
              "    }\n",
              "\n",
              "    .dataframe tbody tr th {\n",
              "        vertical-align: top;\n",
              "    }\n",
              "\n",
              "    .dataframe thead th {\n",
              "        text-align: right;\n",
              "    }\n",
              "</style>\n",
              "<table border=\"1\" class=\"dataframe\">\n",
              "  <thead>\n",
              "    <tr style=\"text-align: right;\">\n",
              "      <th></th>\n",
              "      <th>fare_amount</th>\n",
              "      <th>fare_class</th>\n",
              "      <th>passenger_count</th>\n",
              "      <th>Year</th>\n",
              "      <th>Month</th>\n",
              "      <th>Day</th>\n",
              "      <th>Hours</th>\n",
              "      <th>Minutes</th>\n",
              "      <th>Total_distance</th>\n",
              "    </tr>\n",
              "  </thead>\n",
              "  <tbody>\n",
              "    <tr>\n",
              "      <th>17</th>\n",
              "      <td>5.7</td>\n",
              "      <td>0</td>\n",
              "      <td>1</td>\n",
              "      <td>2010</td>\n",
              "      <td>4</td>\n",
              "      <td>15</td>\n",
              "      <td>8</td>\n",
              "      <td>55</td>\n",
              "      <td>0.884574</td>\n",
              "    </tr>\n",
              "    <tr>\n",
              "      <th>22</th>\n",
              "      <td>4.9</td>\n",
              "      <td>0</td>\n",
              "      <td>1</td>\n",
              "      <td>2010</td>\n",
              "      <td>4</td>\n",
              "      <td>13</td>\n",
              "      <td>13</td>\n",
              "      <td>55</td>\n",
              "      <td>0.858184</td>\n",
              "    </tr>\n",
              "    <tr>\n",
              "      <th>34</th>\n",
              "      <td>5.6</td>\n",
              "      <td>0</td>\n",
              "      <td>1</td>\n",
              "      <td>2010</td>\n",
              "      <td>4</td>\n",
              "      <td>12</td>\n",
              "      <td>19</td>\n",
              "      <td>59</td>\n",
              "      <td>0.455160</td>\n",
              "    </tr>\n",
              "    <tr>\n",
              "      <th>40</th>\n",
              "      <td>4.9</td>\n",
              "      <td>0</td>\n",
              "      <td>1</td>\n",
              "      <td>2010</td>\n",
              "      <td>4</td>\n",
              "      <td>22</td>\n",
              "      <td>10</td>\n",
              "      <td>5</td>\n",
              "      <td>0.767521</td>\n",
              "    </tr>\n",
              "    <tr>\n",
              "      <th>44</th>\n",
              "      <td>6.5</td>\n",
              "      <td>0</td>\n",
              "      <td>2</td>\n",
              "      <td>2010</td>\n",
              "      <td>4</td>\n",
              "      <td>18</td>\n",
              "      <td>15</td>\n",
              "      <td>51</td>\n",
              "      <td>0.564182</td>\n",
              "    </tr>\n",
              "    <tr>\n",
              "      <th>...</th>\n",
              "      <td>...</td>\n",
              "      <td>...</td>\n",
              "      <td>...</td>\n",
              "      <td>...</td>\n",
              "      <td>...</td>\n",
              "      <td>...</td>\n",
              "      <td>...</td>\n",
              "      <td>...</td>\n",
              "      <td>...</td>\n",
              "    </tr>\n",
              "    <tr>\n",
              "      <th>119966</th>\n",
              "      <td>4.9</td>\n",
              "      <td>0</td>\n",
              "      <td>1</td>\n",
              "      <td>2010</td>\n",
              "      <td>4</td>\n",
              "      <td>23</td>\n",
              "      <td>16</td>\n",
              "      <td>45</td>\n",
              "      <td>0.998203</td>\n",
              "    </tr>\n",
              "    <tr>\n",
              "      <th>119969</th>\n",
              "      <td>7.7</td>\n",
              "      <td>0</td>\n",
              "      <td>1</td>\n",
              "      <td>2010</td>\n",
              "      <td>4</td>\n",
              "      <td>11</td>\n",
              "      <td>16</td>\n",
              "      <td>54</td>\n",
              "      <td>0.050811</td>\n",
              "    </tr>\n",
              "    <tr>\n",
              "      <th>119984</th>\n",
              "      <td>5.3</td>\n",
              "      <td>0</td>\n",
              "      <td>1</td>\n",
              "      <td>2010</td>\n",
              "      <td>4</td>\n",
              "      <td>16</td>\n",
              "      <td>17</td>\n",
              "      <td>34</td>\n",
              "      <td>0.934755</td>\n",
              "    </tr>\n",
              "    <tr>\n",
              "      <th>119992</th>\n",
              "      <td>5.7</td>\n",
              "      <td>0</td>\n",
              "      <td>1</td>\n",
              "      <td>2010</td>\n",
              "      <td>4</td>\n",
              "      <td>16</td>\n",
              "      <td>8</td>\n",
              "      <td>39</td>\n",
              "      <td>0.978120</td>\n",
              "    </tr>\n",
              "    <tr>\n",
              "      <th>119993</th>\n",
              "      <td>5.3</td>\n",
              "      <td>0</td>\n",
              "      <td>1</td>\n",
              "      <td>2010</td>\n",
              "      <td>4</td>\n",
              "      <td>12</td>\n",
              "      <td>11</td>\n",
              "      <td>38</td>\n",
              "      <td>0.814491</td>\n",
              "    </tr>\n",
              "  </tbody>\n",
              "</table>\n",
              "<p>6383 rows × 9 columns</p>\n",
              "</div>"
            ],
            "text/plain": [
              "        fare_amount  fare_class  ...  Minutes  Total_distance\n",
              "17              5.7           0  ...       55        0.884574\n",
              "22              4.9           0  ...       55        0.858184\n",
              "34              5.6           0  ...       59        0.455160\n",
              "40              4.9           0  ...        5        0.767521\n",
              "44              6.5           0  ...       51        0.564182\n",
              "...             ...         ...  ...      ...             ...\n",
              "119966          4.9           0  ...       45        0.998203\n",
              "119969          7.7           0  ...       54        0.050811\n",
              "119984          5.3           0  ...       34        0.934755\n",
              "119992          5.7           0  ...       39        0.978120\n",
              "119993          5.3           0  ...       38        0.814491\n",
              "\n",
              "[6383 rows x 9 columns]"
            ]
          },
          "metadata": {
            "tags": []
          },
          "execution_count": 282
        }
      ]
    },
    {
      "cell_type": "code",
      "metadata": {
        "colab": {
          "base_uri": "https://localhost:8080/",
          "height": 206
        },
        "id": "zShCyouV2Abz",
        "outputId": "f580c77c-f410-4234-b5c1-863488c1f539"
      },
      "source": [
        "df = df.drop(df[(df['fare_amount'] > 4.6) & (df['Total_distance'] < 1)].index)\r\n",
        "df.head()"
      ],
      "execution_count": 283,
      "outputs": [
        {
          "output_type": "execute_result",
          "data": {
            "text/html": [
              "<div>\n",
              "<style scoped>\n",
              "    .dataframe tbody tr th:only-of-type {\n",
              "        vertical-align: middle;\n",
              "    }\n",
              "\n",
              "    .dataframe tbody tr th {\n",
              "        vertical-align: top;\n",
              "    }\n",
              "\n",
              "    .dataframe thead th {\n",
              "        text-align: right;\n",
              "    }\n",
              "</style>\n",
              "<table border=\"1\" class=\"dataframe\">\n",
              "  <thead>\n",
              "    <tr style=\"text-align: right;\">\n",
              "      <th></th>\n",
              "      <th>fare_amount</th>\n",
              "      <th>fare_class</th>\n",
              "      <th>passenger_count</th>\n",
              "      <th>Year</th>\n",
              "      <th>Month</th>\n",
              "      <th>Day</th>\n",
              "      <th>Hours</th>\n",
              "      <th>Minutes</th>\n",
              "      <th>Total_distance</th>\n",
              "    </tr>\n",
              "  </thead>\n",
              "  <tbody>\n",
              "    <tr>\n",
              "      <th>0</th>\n",
              "      <td>6.5</td>\n",
              "      <td>0</td>\n",
              "      <td>1</td>\n",
              "      <td>2010</td>\n",
              "      <td>4</td>\n",
              "      <td>19</td>\n",
              "      <td>8</td>\n",
              "      <td>17</td>\n",
              "      <td>2.126312</td>\n",
              "    </tr>\n",
              "    <tr>\n",
              "      <th>1</th>\n",
              "      <td>6.9</td>\n",
              "      <td>0</td>\n",
              "      <td>1</td>\n",
              "      <td>2010</td>\n",
              "      <td>4</td>\n",
              "      <td>17</td>\n",
              "      <td>15</td>\n",
              "      <td>43</td>\n",
              "      <td>1.392307</td>\n",
              "    </tr>\n",
              "    <tr>\n",
              "      <th>2</th>\n",
              "      <td>10.1</td>\n",
              "      <td>1</td>\n",
              "      <td>2</td>\n",
              "      <td>2010</td>\n",
              "      <td>4</td>\n",
              "      <td>17</td>\n",
              "      <td>11</td>\n",
              "      <td>23</td>\n",
              "      <td>3.326763</td>\n",
              "    </tr>\n",
              "    <tr>\n",
              "      <th>3</th>\n",
              "      <td>8.9</td>\n",
              "      <td>0</td>\n",
              "      <td>1</td>\n",
              "      <td>2010</td>\n",
              "      <td>4</td>\n",
              "      <td>11</td>\n",
              "      <td>21</td>\n",
              "      <td>25</td>\n",
              "      <td>1.864129</td>\n",
              "    </tr>\n",
              "    <tr>\n",
              "      <th>4</th>\n",
              "      <td>19.7</td>\n",
              "      <td>1</td>\n",
              "      <td>1</td>\n",
              "      <td>2010</td>\n",
              "      <td>4</td>\n",
              "      <td>17</td>\n",
              "      <td>2</td>\n",
              "      <td>19</td>\n",
              "      <td>7.231321</td>\n",
              "    </tr>\n",
              "  </tbody>\n",
              "</table>\n",
              "</div>"
            ],
            "text/plain": [
              "   fare_amount  fare_class  passenger_count  ...  Hours  Minutes  Total_distance\n",
              "0          6.5           0                1  ...      8       17        2.126312\n",
              "1          6.9           0                1  ...     15       43        1.392307\n",
              "2         10.1           1                2  ...     11       23        3.326763\n",
              "3          8.9           0                1  ...     21       25        1.864129\n",
              "4         19.7           1                1  ...      2       19        7.231321\n",
              "\n",
              "[5 rows x 9 columns]"
            ]
          },
          "metadata": {
            "tags": []
          },
          "execution_count": 283
        }
      ]
    },
    {
      "cell_type": "code",
      "metadata": {
        "colab": {
          "base_uri": "https://localhost:8080/",
          "height": 424
        },
        "id": "059tOa5K3yNp",
        "outputId": "9e796951-6762-446b-c9c7-bcd7ca1154e4"
      },
      "source": [
        "#$ 6.2 = 2 km charge\r\n",
        "df[(df['fare_amount'] > 6.2) & (df['Total_distance'] < 2)]"
      ],
      "execution_count": 284,
      "outputs": [
        {
          "output_type": "execute_result",
          "data": {
            "text/html": [
              "<div>\n",
              "<style scoped>\n",
              "    .dataframe tbody tr th:only-of-type {\n",
              "        vertical-align: middle;\n",
              "    }\n",
              "\n",
              "    .dataframe tbody tr th {\n",
              "        vertical-align: top;\n",
              "    }\n",
              "\n",
              "    .dataframe thead th {\n",
              "        text-align: right;\n",
              "    }\n",
              "</style>\n",
              "<table border=\"1\" class=\"dataframe\">\n",
              "  <thead>\n",
              "    <tr style=\"text-align: right;\">\n",
              "      <th></th>\n",
              "      <th>fare_amount</th>\n",
              "      <th>fare_class</th>\n",
              "      <th>passenger_count</th>\n",
              "      <th>Year</th>\n",
              "      <th>Month</th>\n",
              "      <th>Day</th>\n",
              "      <th>Hours</th>\n",
              "      <th>Minutes</th>\n",
              "      <th>Total_distance</th>\n",
              "    </tr>\n",
              "  </thead>\n",
              "  <tbody>\n",
              "    <tr>\n",
              "      <th>1</th>\n",
              "      <td>6.9</td>\n",
              "      <td>0</td>\n",
              "      <td>1</td>\n",
              "      <td>2010</td>\n",
              "      <td>4</td>\n",
              "      <td>17</td>\n",
              "      <td>15</td>\n",
              "      <td>43</td>\n",
              "      <td>1.392307</td>\n",
              "    </tr>\n",
              "    <tr>\n",
              "      <th>3</th>\n",
              "      <td>8.9</td>\n",
              "      <td>0</td>\n",
              "      <td>1</td>\n",
              "      <td>2010</td>\n",
              "      <td>4</td>\n",
              "      <td>11</td>\n",
              "      <td>21</td>\n",
              "      <td>25</td>\n",
              "      <td>1.864129</td>\n",
              "    </tr>\n",
              "    <tr>\n",
              "      <th>5</th>\n",
              "      <td>8.1</td>\n",
              "      <td>0</td>\n",
              "      <td>1</td>\n",
              "      <td>2010</td>\n",
              "      <td>4</td>\n",
              "      <td>22</td>\n",
              "      <td>8</td>\n",
              "      <td>39</td>\n",
              "      <td>1.958574</td>\n",
              "    </tr>\n",
              "    <tr>\n",
              "      <th>14</th>\n",
              "      <td>6.9</td>\n",
              "      <td>0</td>\n",
              "      <td>2</td>\n",
              "      <td>2010</td>\n",
              "      <td>4</td>\n",
              "      <td>21</td>\n",
              "      <td>10</td>\n",
              "      <td>12</td>\n",
              "      <td>1.711402</td>\n",
              "    </tr>\n",
              "    <tr>\n",
              "      <th>28</th>\n",
              "      <td>8.5</td>\n",
              "      <td>0</td>\n",
              "      <td>2</td>\n",
              "      <td>2010</td>\n",
              "      <td>4</td>\n",
              "      <td>23</td>\n",
              "      <td>19</td>\n",
              "      <td>11</td>\n",
              "      <td>1.942799</td>\n",
              "    </tr>\n",
              "    <tr>\n",
              "      <th>...</th>\n",
              "      <td>...</td>\n",
              "      <td>...</td>\n",
              "      <td>...</td>\n",
              "      <td>...</td>\n",
              "      <td>...</td>\n",
              "      <td>...</td>\n",
              "      <td>...</td>\n",
              "      <td>...</td>\n",
              "      <td>...</td>\n",
              "    </tr>\n",
              "    <tr>\n",
              "      <th>119944</th>\n",
              "      <td>7.7</td>\n",
              "      <td>0</td>\n",
              "      <td>2</td>\n",
              "      <td>2010</td>\n",
              "      <td>4</td>\n",
              "      <td>17</td>\n",
              "      <td>19</td>\n",
              "      <td>58</td>\n",
              "      <td>1.522837</td>\n",
              "    </tr>\n",
              "    <tr>\n",
              "      <th>119956</th>\n",
              "      <td>7.3</td>\n",
              "      <td>0</td>\n",
              "      <td>3</td>\n",
              "      <td>2010</td>\n",
              "      <td>4</td>\n",
              "      <td>11</td>\n",
              "      <td>16</td>\n",
              "      <td>45</td>\n",
              "      <td>1.104379</td>\n",
              "    </tr>\n",
              "    <tr>\n",
              "      <th>119962</th>\n",
              "      <td>7.7</td>\n",
              "      <td>0</td>\n",
              "      <td>1</td>\n",
              "      <td>2010</td>\n",
              "      <td>4</td>\n",
              "      <td>21</td>\n",
              "      <td>9</td>\n",
              "      <td>56</td>\n",
              "      <td>1.402838</td>\n",
              "    </tr>\n",
              "    <tr>\n",
              "      <th>119963</th>\n",
              "      <td>6.5</td>\n",
              "      <td>0</td>\n",
              "      <td>1</td>\n",
              "      <td>2010</td>\n",
              "      <td>4</td>\n",
              "      <td>14</td>\n",
              "      <td>22</td>\n",
              "      <td>27</td>\n",
              "      <td>1.891709</td>\n",
              "    </tr>\n",
              "    <tr>\n",
              "      <th>119981</th>\n",
              "      <td>7.3</td>\n",
              "      <td>0</td>\n",
              "      <td>1</td>\n",
              "      <td>2010</td>\n",
              "      <td>4</td>\n",
              "      <td>22</td>\n",
              "      <td>13</td>\n",
              "      <td>7</td>\n",
              "      <td>1.391930</td>\n",
              "    </tr>\n",
              "  </tbody>\n",
              "</table>\n",
              "<p>14191 rows × 9 columns</p>\n",
              "</div>"
            ],
            "text/plain": [
              "        fare_amount  fare_class  ...  Minutes  Total_distance\n",
              "1               6.9           0  ...       43        1.392307\n",
              "3               8.9           0  ...       25        1.864129\n",
              "5               8.1           0  ...       39        1.958574\n",
              "14              6.9           0  ...       12        1.711402\n",
              "28              8.5           0  ...       11        1.942799\n",
              "...             ...         ...  ...      ...             ...\n",
              "119944          7.7           0  ...       58        1.522837\n",
              "119956          7.3           0  ...       45        1.104379\n",
              "119962          7.7           0  ...       56        1.402838\n",
              "119963          6.5           0  ...       27        1.891709\n",
              "119981          7.3           0  ...        7        1.391930\n",
              "\n",
              "[14191 rows x 9 columns]"
            ]
          },
          "metadata": {
            "tags": []
          },
          "execution_count": 284
        }
      ]
    },
    {
      "cell_type": "code",
      "metadata": {
        "colab": {
          "base_uri": "https://localhost:8080/",
          "height": 206
        },
        "id": "SF1ZW-nP3yVh",
        "outputId": "12fb3b4f-557c-44a2-d0a7-5d988fa0ab43"
      },
      "source": [
        "df = df.drop(df[(df['fare_amount'] > 6.2) & (df['Total_distance'] < 2)].index)\r\n",
        "df.head()"
      ],
      "execution_count": 285,
      "outputs": [
        {
          "output_type": "execute_result",
          "data": {
            "text/html": [
              "<div>\n",
              "<style scoped>\n",
              "    .dataframe tbody tr th:only-of-type {\n",
              "        vertical-align: middle;\n",
              "    }\n",
              "\n",
              "    .dataframe tbody tr th {\n",
              "        vertical-align: top;\n",
              "    }\n",
              "\n",
              "    .dataframe thead th {\n",
              "        text-align: right;\n",
              "    }\n",
              "</style>\n",
              "<table border=\"1\" class=\"dataframe\">\n",
              "  <thead>\n",
              "    <tr style=\"text-align: right;\">\n",
              "      <th></th>\n",
              "      <th>fare_amount</th>\n",
              "      <th>fare_class</th>\n",
              "      <th>passenger_count</th>\n",
              "      <th>Year</th>\n",
              "      <th>Month</th>\n",
              "      <th>Day</th>\n",
              "      <th>Hours</th>\n",
              "      <th>Minutes</th>\n",
              "      <th>Total_distance</th>\n",
              "    </tr>\n",
              "  </thead>\n",
              "  <tbody>\n",
              "    <tr>\n",
              "      <th>0</th>\n",
              "      <td>6.5</td>\n",
              "      <td>0</td>\n",
              "      <td>1</td>\n",
              "      <td>2010</td>\n",
              "      <td>4</td>\n",
              "      <td>19</td>\n",
              "      <td>8</td>\n",
              "      <td>17</td>\n",
              "      <td>2.126312</td>\n",
              "    </tr>\n",
              "    <tr>\n",
              "      <th>2</th>\n",
              "      <td>10.1</td>\n",
              "      <td>1</td>\n",
              "      <td>2</td>\n",
              "      <td>2010</td>\n",
              "      <td>4</td>\n",
              "      <td>17</td>\n",
              "      <td>11</td>\n",
              "      <td>23</td>\n",
              "      <td>3.326763</td>\n",
              "    </tr>\n",
              "    <tr>\n",
              "      <th>4</th>\n",
              "      <td>19.7</td>\n",
              "      <td>1</td>\n",
              "      <td>1</td>\n",
              "      <td>2010</td>\n",
              "      <td>4</td>\n",
              "      <td>17</td>\n",
              "      <td>2</td>\n",
              "      <td>19</td>\n",
              "      <td>7.231321</td>\n",
              "    </tr>\n",
              "    <tr>\n",
              "      <th>6</th>\n",
              "      <td>4.9</td>\n",
              "      <td>0</td>\n",
              "      <td>1</td>\n",
              "      <td>2010</td>\n",
              "      <td>4</td>\n",
              "      <td>23</td>\n",
              "      <td>19</td>\n",
              "      <td>27</td>\n",
              "      <td>1.042304</td>\n",
              "    </tr>\n",
              "    <tr>\n",
              "      <th>7</th>\n",
              "      <td>4.9</td>\n",
              "      <td>0</td>\n",
              "      <td>1</td>\n",
              "      <td>2010</td>\n",
              "      <td>4</td>\n",
              "      <td>15</td>\n",
              "      <td>9</td>\n",
              "      <td>3</td>\n",
              "      <td>1.089064</td>\n",
              "    </tr>\n",
              "  </tbody>\n",
              "</table>\n",
              "</div>"
            ],
            "text/plain": [
              "   fare_amount  fare_class  passenger_count  ...  Hours  Minutes  Total_distance\n",
              "0          6.5           0                1  ...      8       17        2.126312\n",
              "2         10.1           1                2  ...     11       23        3.326763\n",
              "4         19.7           1                1  ...      2       19        7.231321\n",
              "6          4.9           0                1  ...     19       27        1.042304\n",
              "7          4.9           0                1  ...      9        3        1.089064\n",
              "\n",
              "[5 rows x 9 columns]"
            ]
          },
          "metadata": {
            "tags": []
          },
          "execution_count": 285
        }
      ]
    },
    {
      "cell_type": "code",
      "metadata": {
        "colab": {
          "base_uri": "https://localhost:8080/",
          "height": 424
        },
        "id": "NO7Rtjgd3yZT",
        "outputId": "8052908a-0411-455a-ee74-406c527b39fd"
      },
      "source": [
        "df[(df['fare_amount'] > 9) & (df['Total_distance'] < 3)]"
      ],
      "execution_count": 286,
      "outputs": [
        {
          "output_type": "execute_result",
          "data": {
            "text/html": [
              "<div>\n",
              "<style scoped>\n",
              "    .dataframe tbody tr th:only-of-type {\n",
              "        vertical-align: middle;\n",
              "    }\n",
              "\n",
              "    .dataframe tbody tr th {\n",
              "        vertical-align: top;\n",
              "    }\n",
              "\n",
              "    .dataframe thead th {\n",
              "        text-align: right;\n",
              "    }\n",
              "</style>\n",
              "<table border=\"1\" class=\"dataframe\">\n",
              "  <thead>\n",
              "    <tr style=\"text-align: right;\">\n",
              "      <th></th>\n",
              "      <th>fare_amount</th>\n",
              "      <th>fare_class</th>\n",
              "      <th>passenger_count</th>\n",
              "      <th>Year</th>\n",
              "      <th>Month</th>\n",
              "      <th>Day</th>\n",
              "      <th>Hours</th>\n",
              "      <th>Minutes</th>\n",
              "      <th>Total_distance</th>\n",
              "    </tr>\n",
              "  </thead>\n",
              "  <tbody>\n",
              "    <tr>\n",
              "      <th>36</th>\n",
              "      <td>9.7</td>\n",
              "      <td>0</td>\n",
              "      <td>2</td>\n",
              "      <td>2010</td>\n",
              "      <td>4</td>\n",
              "      <td>12</td>\n",
              "      <td>15</td>\n",
              "      <td>32</td>\n",
              "      <td>2.435028</td>\n",
              "    </tr>\n",
              "    <tr>\n",
              "      <th>76</th>\n",
              "      <td>10.5</td>\n",
              "      <td>1</td>\n",
              "      <td>3</td>\n",
              "      <td>2010</td>\n",
              "      <td>4</td>\n",
              "      <td>11</td>\n",
              "      <td>18</td>\n",
              "      <td>52</td>\n",
              "      <td>2.754072</td>\n",
              "    </tr>\n",
              "    <tr>\n",
              "      <th>122</th>\n",
              "      <td>12.1</td>\n",
              "      <td>1</td>\n",
              "      <td>3</td>\n",
              "      <td>2010</td>\n",
              "      <td>4</td>\n",
              "      <td>17</td>\n",
              "      <td>0</td>\n",
              "      <td>59</td>\n",
              "      <td>2.087824</td>\n",
              "    </tr>\n",
              "    <tr>\n",
              "      <th>132</th>\n",
              "      <td>9.3</td>\n",
              "      <td>0</td>\n",
              "      <td>1</td>\n",
              "      <td>2010</td>\n",
              "      <td>4</td>\n",
              "      <td>23</td>\n",
              "      <td>9</td>\n",
              "      <td>19</td>\n",
              "      <td>2.421650</td>\n",
              "    </tr>\n",
              "    <tr>\n",
              "      <th>153</th>\n",
              "      <td>10.1</td>\n",
              "      <td>1</td>\n",
              "      <td>1</td>\n",
              "      <td>2010</td>\n",
              "      <td>4</td>\n",
              "      <td>15</td>\n",
              "      <td>17</td>\n",
              "      <td>50</td>\n",
              "      <td>2.121679</td>\n",
              "    </tr>\n",
              "    <tr>\n",
              "      <th>...</th>\n",
              "      <td>...</td>\n",
              "      <td>...</td>\n",
              "      <td>...</td>\n",
              "      <td>...</td>\n",
              "      <td>...</td>\n",
              "      <td>...</td>\n",
              "      <td>...</td>\n",
              "      <td>...</td>\n",
              "      <td>...</td>\n",
              "    </tr>\n",
              "    <tr>\n",
              "      <th>119839</th>\n",
              "      <td>10.1</td>\n",
              "      <td>1</td>\n",
              "      <td>1</td>\n",
              "      <td>2010</td>\n",
              "      <td>4</td>\n",
              "      <td>19</td>\n",
              "      <td>11</td>\n",
              "      <td>20</td>\n",
              "      <td>2.496627</td>\n",
              "    </tr>\n",
              "    <tr>\n",
              "      <th>119861</th>\n",
              "      <td>11.7</td>\n",
              "      <td>1</td>\n",
              "      <td>2</td>\n",
              "      <td>2010</td>\n",
              "      <td>4</td>\n",
              "      <td>22</td>\n",
              "      <td>18</td>\n",
              "      <td>59</td>\n",
              "      <td>2.640533</td>\n",
              "    </tr>\n",
              "    <tr>\n",
              "      <th>119876</th>\n",
              "      <td>9.3</td>\n",
              "      <td>0</td>\n",
              "      <td>1</td>\n",
              "      <td>2010</td>\n",
              "      <td>4</td>\n",
              "      <td>14</td>\n",
              "      <td>15</td>\n",
              "      <td>21</td>\n",
              "      <td>2.566239</td>\n",
              "    </tr>\n",
              "    <tr>\n",
              "      <th>119939</th>\n",
              "      <td>9.7</td>\n",
              "      <td>0</td>\n",
              "      <td>1</td>\n",
              "      <td>2010</td>\n",
              "      <td>4</td>\n",
              "      <td>23</td>\n",
              "      <td>11</td>\n",
              "      <td>54</td>\n",
              "      <td>2.735313</td>\n",
              "    </tr>\n",
              "    <tr>\n",
              "      <th>119991</th>\n",
              "      <td>11.3</td>\n",
              "      <td>1</td>\n",
              "      <td>1</td>\n",
              "      <td>2010</td>\n",
              "      <td>4</td>\n",
              "      <td>12</td>\n",
              "      <td>16</td>\n",
              "      <td>43</td>\n",
              "      <td>2.209147</td>\n",
              "    </tr>\n",
              "  </tbody>\n",
              "</table>\n",
              "<p>5760 rows × 9 columns</p>\n",
              "</div>"
            ],
            "text/plain": [
              "        fare_amount  fare_class  ...  Minutes  Total_distance\n",
              "36              9.7           0  ...       32        2.435028\n",
              "76             10.5           1  ...       52        2.754072\n",
              "122            12.1           1  ...       59        2.087824\n",
              "132             9.3           0  ...       19        2.421650\n",
              "153            10.1           1  ...       50        2.121679\n",
              "...             ...         ...  ...      ...             ...\n",
              "119839         10.1           1  ...       20        2.496627\n",
              "119861         11.7           1  ...       59        2.640533\n",
              "119876          9.3           0  ...       21        2.566239\n",
              "119939          9.7           0  ...       54        2.735313\n",
              "119991         11.3           1  ...       43        2.209147\n",
              "\n",
              "[5760 rows x 9 columns]"
            ]
          },
          "metadata": {
            "tags": []
          },
          "execution_count": 286
        }
      ]
    },
    {
      "cell_type": "code",
      "metadata": {
        "colab": {
          "base_uri": "https://localhost:8080/",
          "height": 206
        },
        "id": "JtCVFdup3yeM",
        "outputId": "0250c63e-8397-4adb-9dc3-3e63836aed82"
      },
      "source": [
        "df = df.drop(df[(df['fare_amount'] > 9) & (df['Total_distance'] < 3)].index)\r\n",
        "df.head()"
      ],
      "execution_count": 287,
      "outputs": [
        {
          "output_type": "execute_result",
          "data": {
            "text/html": [
              "<div>\n",
              "<style scoped>\n",
              "    .dataframe tbody tr th:only-of-type {\n",
              "        vertical-align: middle;\n",
              "    }\n",
              "\n",
              "    .dataframe tbody tr th {\n",
              "        vertical-align: top;\n",
              "    }\n",
              "\n",
              "    .dataframe thead th {\n",
              "        text-align: right;\n",
              "    }\n",
              "</style>\n",
              "<table border=\"1\" class=\"dataframe\">\n",
              "  <thead>\n",
              "    <tr style=\"text-align: right;\">\n",
              "      <th></th>\n",
              "      <th>fare_amount</th>\n",
              "      <th>fare_class</th>\n",
              "      <th>passenger_count</th>\n",
              "      <th>Year</th>\n",
              "      <th>Month</th>\n",
              "      <th>Day</th>\n",
              "      <th>Hours</th>\n",
              "      <th>Minutes</th>\n",
              "      <th>Total_distance</th>\n",
              "    </tr>\n",
              "  </thead>\n",
              "  <tbody>\n",
              "    <tr>\n",
              "      <th>0</th>\n",
              "      <td>6.5</td>\n",
              "      <td>0</td>\n",
              "      <td>1</td>\n",
              "      <td>2010</td>\n",
              "      <td>4</td>\n",
              "      <td>19</td>\n",
              "      <td>8</td>\n",
              "      <td>17</td>\n",
              "      <td>2.126312</td>\n",
              "    </tr>\n",
              "    <tr>\n",
              "      <th>2</th>\n",
              "      <td>10.1</td>\n",
              "      <td>1</td>\n",
              "      <td>2</td>\n",
              "      <td>2010</td>\n",
              "      <td>4</td>\n",
              "      <td>17</td>\n",
              "      <td>11</td>\n",
              "      <td>23</td>\n",
              "      <td>3.326763</td>\n",
              "    </tr>\n",
              "    <tr>\n",
              "      <th>4</th>\n",
              "      <td>19.7</td>\n",
              "      <td>1</td>\n",
              "      <td>1</td>\n",
              "      <td>2010</td>\n",
              "      <td>4</td>\n",
              "      <td>17</td>\n",
              "      <td>2</td>\n",
              "      <td>19</td>\n",
              "      <td>7.231321</td>\n",
              "    </tr>\n",
              "    <tr>\n",
              "      <th>6</th>\n",
              "      <td>4.9</td>\n",
              "      <td>0</td>\n",
              "      <td>1</td>\n",
              "      <td>2010</td>\n",
              "      <td>4</td>\n",
              "      <td>23</td>\n",
              "      <td>19</td>\n",
              "      <td>27</td>\n",
              "      <td>1.042304</td>\n",
              "    </tr>\n",
              "    <tr>\n",
              "      <th>7</th>\n",
              "      <td>4.9</td>\n",
              "      <td>0</td>\n",
              "      <td>1</td>\n",
              "      <td>2010</td>\n",
              "      <td>4</td>\n",
              "      <td>15</td>\n",
              "      <td>9</td>\n",
              "      <td>3</td>\n",
              "      <td>1.089064</td>\n",
              "    </tr>\n",
              "  </tbody>\n",
              "</table>\n",
              "</div>"
            ],
            "text/plain": [
              "   fare_amount  fare_class  passenger_count  ...  Hours  Minutes  Total_distance\n",
              "0          6.5           0                1  ...      8       17        2.126312\n",
              "2         10.1           1                2  ...     11       23        3.326763\n",
              "4         19.7           1                1  ...      2       19        7.231321\n",
              "6          4.9           0                1  ...     19       27        1.042304\n",
              "7          4.9           0                1  ...      9        3        1.089064\n",
              "\n",
              "[5 rows x 9 columns]"
            ]
          },
          "metadata": {
            "tags": []
          },
          "execution_count": 287
        }
      ]
    },
    {
      "cell_type": "code",
      "metadata": {
        "colab": {
          "base_uri": "https://localhost:8080/"
        },
        "id": "1CcmkkOK3yhV",
        "outputId": "d1007656-324d-4b4b-f3dd-db1d168f1b34"
      },
      "source": [
        "df.shape"
      ],
      "execution_count": 288,
      "outputs": [
        {
          "output_type": "execute_result",
          "data": {
            "text/plain": [
              "(93666, 9)"
            ]
          },
          "metadata": {
            "tags": []
          },
          "execution_count": 288
        }
      ]
    },
    {
      "cell_type": "code",
      "metadata": {
        "colab": {
          "base_uri": "https://localhost:8080/",
          "height": 424
        },
        "id": "9m6PKdw53yku",
        "outputId": "19670fde-085a-4dc4-8b31-5f153fcf58ef"
      },
      "source": [
        "df[(df['fare_amount'] > 11) & (df['Total_distance'] < 4)]"
      ],
      "execution_count": 289,
      "outputs": [
        {
          "output_type": "execute_result",
          "data": {
            "text/html": [
              "<div>\n",
              "<style scoped>\n",
              "    .dataframe tbody tr th:only-of-type {\n",
              "        vertical-align: middle;\n",
              "    }\n",
              "\n",
              "    .dataframe tbody tr th {\n",
              "        vertical-align: top;\n",
              "    }\n",
              "\n",
              "    .dataframe thead th {\n",
              "        text-align: right;\n",
              "    }\n",
              "</style>\n",
              "<table border=\"1\" class=\"dataframe\">\n",
              "  <thead>\n",
              "    <tr style=\"text-align: right;\">\n",
              "      <th></th>\n",
              "      <th>fare_amount</th>\n",
              "      <th>fare_class</th>\n",
              "      <th>passenger_count</th>\n",
              "      <th>Year</th>\n",
              "      <th>Month</th>\n",
              "      <th>Day</th>\n",
              "      <th>Hours</th>\n",
              "      <th>Minutes</th>\n",
              "      <th>Total_distance</th>\n",
              "    </tr>\n",
              "  </thead>\n",
              "  <tbody>\n",
              "    <tr>\n",
              "      <th>39</th>\n",
              "      <td>12.90</td>\n",
              "      <td>1</td>\n",
              "      <td>5</td>\n",
              "      <td>2010</td>\n",
              "      <td>4</td>\n",
              "      <td>23</td>\n",
              "      <td>17</td>\n",
              "      <td>27</td>\n",
              "      <td>3.662039</td>\n",
              "    </tr>\n",
              "    <tr>\n",
              "      <th>58</th>\n",
              "      <td>13.30</td>\n",
              "      <td>1</td>\n",
              "      <td>2</td>\n",
              "      <td>2010</td>\n",
              "      <td>4</td>\n",
              "      <td>20</td>\n",
              "      <td>9</td>\n",
              "      <td>10</td>\n",
              "      <td>3.580064</td>\n",
              "    </tr>\n",
              "    <tr>\n",
              "      <th>74</th>\n",
              "      <td>11.70</td>\n",
              "      <td>1</td>\n",
              "      <td>1</td>\n",
              "      <td>2010</td>\n",
              "      <td>4</td>\n",
              "      <td>16</td>\n",
              "      <td>17</td>\n",
              "      <td>38</td>\n",
              "      <td>3.968437</td>\n",
              "    </tr>\n",
              "    <tr>\n",
              "      <th>75</th>\n",
              "      <td>14.50</td>\n",
              "      <td>1</td>\n",
              "      <td>1</td>\n",
              "      <td>2010</td>\n",
              "      <td>4</td>\n",
              "      <td>16</td>\n",
              "      <td>22</td>\n",
              "      <td>37</td>\n",
              "      <td>3.762905</td>\n",
              "    </tr>\n",
              "    <tr>\n",
              "      <th>154</th>\n",
              "      <td>11.70</td>\n",
              "      <td>1</td>\n",
              "      <td>1</td>\n",
              "      <td>2010</td>\n",
              "      <td>4</td>\n",
              "      <td>14</td>\n",
              "      <td>8</td>\n",
              "      <td>8</td>\n",
              "      <td>3.870700</td>\n",
              "    </tr>\n",
              "    <tr>\n",
              "      <th>...</th>\n",
              "      <td>...</td>\n",
              "      <td>...</td>\n",
              "      <td>...</td>\n",
              "      <td>...</td>\n",
              "      <td>...</td>\n",
              "      <td>...</td>\n",
              "      <td>...</td>\n",
              "      <td>...</td>\n",
              "      <td>...</td>\n",
              "    </tr>\n",
              "    <tr>\n",
              "      <th>119896</th>\n",
              "      <td>15.87</td>\n",
              "      <td>1</td>\n",
              "      <td>1</td>\n",
              "      <td>2010</td>\n",
              "      <td>4</td>\n",
              "      <td>20</td>\n",
              "      <td>18</td>\n",
              "      <td>47</td>\n",
              "      <td>3.221376</td>\n",
              "    </tr>\n",
              "    <tr>\n",
              "      <th>119902</th>\n",
              "      <td>14.10</td>\n",
              "      <td>1</td>\n",
              "      <td>2</td>\n",
              "      <td>2010</td>\n",
              "      <td>4</td>\n",
              "      <td>24</td>\n",
              "      <td>14</td>\n",
              "      <td>52</td>\n",
              "      <td>3.107681</td>\n",
              "    </tr>\n",
              "    <tr>\n",
              "      <th>119904</th>\n",
              "      <td>11.30</td>\n",
              "      <td>1</td>\n",
              "      <td>1</td>\n",
              "      <td>2010</td>\n",
              "      <td>4</td>\n",
              "      <td>25</td>\n",
              "      <td>3</td>\n",
              "      <td>53</td>\n",
              "      <td>3.970841</td>\n",
              "    </tr>\n",
              "    <tr>\n",
              "      <th>119912</th>\n",
              "      <td>12.50</td>\n",
              "      <td>1</td>\n",
              "      <td>1</td>\n",
              "      <td>2010</td>\n",
              "      <td>4</td>\n",
              "      <td>19</td>\n",
              "      <td>8</td>\n",
              "      <td>23</td>\n",
              "      <td>3.487944</td>\n",
              "    </tr>\n",
              "    <tr>\n",
              "      <th>119968</th>\n",
              "      <td>12.10</td>\n",
              "      <td>1</td>\n",
              "      <td>1</td>\n",
              "      <td>2010</td>\n",
              "      <td>4</td>\n",
              "      <td>14</td>\n",
              "      <td>17</td>\n",
              "      <td>3</td>\n",
              "      <td>3.015272</td>\n",
              "    </tr>\n",
              "  </tbody>\n",
              "</table>\n",
              "<p>3528 rows × 9 columns</p>\n",
              "</div>"
            ],
            "text/plain": [
              "        fare_amount  fare_class  ...  Minutes  Total_distance\n",
              "39            12.90           1  ...       27        3.662039\n",
              "58            13.30           1  ...       10        3.580064\n",
              "74            11.70           1  ...       38        3.968437\n",
              "75            14.50           1  ...       37        3.762905\n",
              "154           11.70           1  ...        8        3.870700\n",
              "...             ...         ...  ...      ...             ...\n",
              "119896        15.87           1  ...       47        3.221376\n",
              "119902        14.10           1  ...       52        3.107681\n",
              "119904        11.30           1  ...       53        3.970841\n",
              "119912        12.50           1  ...       23        3.487944\n",
              "119968        12.10           1  ...        3        3.015272\n",
              "\n",
              "[3528 rows x 9 columns]"
            ]
          },
          "metadata": {
            "tags": []
          },
          "execution_count": 289
        }
      ]
    },
    {
      "cell_type": "code",
      "metadata": {
        "colab": {
          "base_uri": "https://localhost:8080/",
          "height": 206
        },
        "id": "tyl7lXv73yob",
        "outputId": "52ef52cb-d1e0-4fe6-9e46-f3704a4e00d5"
      },
      "source": [
        "df = df.drop(df[(df['fare_amount'] > 11) & (df['Total_distance'] < 4)].index)\r\n",
        "df.head()"
      ],
      "execution_count": 290,
      "outputs": [
        {
          "output_type": "execute_result",
          "data": {
            "text/html": [
              "<div>\n",
              "<style scoped>\n",
              "    .dataframe tbody tr th:only-of-type {\n",
              "        vertical-align: middle;\n",
              "    }\n",
              "\n",
              "    .dataframe tbody tr th {\n",
              "        vertical-align: top;\n",
              "    }\n",
              "\n",
              "    .dataframe thead th {\n",
              "        text-align: right;\n",
              "    }\n",
              "</style>\n",
              "<table border=\"1\" class=\"dataframe\">\n",
              "  <thead>\n",
              "    <tr style=\"text-align: right;\">\n",
              "      <th></th>\n",
              "      <th>fare_amount</th>\n",
              "      <th>fare_class</th>\n",
              "      <th>passenger_count</th>\n",
              "      <th>Year</th>\n",
              "      <th>Month</th>\n",
              "      <th>Day</th>\n",
              "      <th>Hours</th>\n",
              "      <th>Minutes</th>\n",
              "      <th>Total_distance</th>\n",
              "    </tr>\n",
              "  </thead>\n",
              "  <tbody>\n",
              "    <tr>\n",
              "      <th>0</th>\n",
              "      <td>6.5</td>\n",
              "      <td>0</td>\n",
              "      <td>1</td>\n",
              "      <td>2010</td>\n",
              "      <td>4</td>\n",
              "      <td>19</td>\n",
              "      <td>8</td>\n",
              "      <td>17</td>\n",
              "      <td>2.126312</td>\n",
              "    </tr>\n",
              "    <tr>\n",
              "      <th>2</th>\n",
              "      <td>10.1</td>\n",
              "      <td>1</td>\n",
              "      <td>2</td>\n",
              "      <td>2010</td>\n",
              "      <td>4</td>\n",
              "      <td>17</td>\n",
              "      <td>11</td>\n",
              "      <td>23</td>\n",
              "      <td>3.326763</td>\n",
              "    </tr>\n",
              "    <tr>\n",
              "      <th>4</th>\n",
              "      <td>19.7</td>\n",
              "      <td>1</td>\n",
              "      <td>1</td>\n",
              "      <td>2010</td>\n",
              "      <td>4</td>\n",
              "      <td>17</td>\n",
              "      <td>2</td>\n",
              "      <td>19</td>\n",
              "      <td>7.231321</td>\n",
              "    </tr>\n",
              "    <tr>\n",
              "      <th>6</th>\n",
              "      <td>4.9</td>\n",
              "      <td>0</td>\n",
              "      <td>1</td>\n",
              "      <td>2010</td>\n",
              "      <td>4</td>\n",
              "      <td>23</td>\n",
              "      <td>19</td>\n",
              "      <td>27</td>\n",
              "      <td>1.042304</td>\n",
              "    </tr>\n",
              "    <tr>\n",
              "      <th>7</th>\n",
              "      <td>4.9</td>\n",
              "      <td>0</td>\n",
              "      <td>1</td>\n",
              "      <td>2010</td>\n",
              "      <td>4</td>\n",
              "      <td>15</td>\n",
              "      <td>9</td>\n",
              "      <td>3</td>\n",
              "      <td>1.089064</td>\n",
              "    </tr>\n",
              "  </tbody>\n",
              "</table>\n",
              "</div>"
            ],
            "text/plain": [
              "   fare_amount  fare_class  passenger_count  ...  Hours  Minutes  Total_distance\n",
              "0          6.5           0                1  ...      8       17        2.126312\n",
              "2         10.1           1                2  ...     11       23        3.326763\n",
              "4         19.7           1                1  ...      2       19        7.231321\n",
              "6          4.9           0                1  ...     19       27        1.042304\n",
              "7          4.9           0                1  ...      9        3        1.089064\n",
              "\n",
              "[5 rows x 9 columns]"
            ]
          },
          "metadata": {
            "tags": []
          },
          "execution_count": 290
        }
      ]
    },
    {
      "cell_type": "code",
      "metadata": {
        "colab": {
          "base_uri": "https://localhost:8080/",
          "height": 424
        },
        "id": "L8cZhQRG9Nmb",
        "outputId": "250d5ca4-7509-40e8-8e8a-37cfc4353313"
      },
      "source": [
        "df[(df['fare_amount'] > 13) & (df['Total_distance'] < 5)]"
      ],
      "execution_count": 291,
      "outputs": [
        {
          "output_type": "execute_result",
          "data": {
            "text/html": [
              "<div>\n",
              "<style scoped>\n",
              "    .dataframe tbody tr th:only-of-type {\n",
              "        vertical-align: middle;\n",
              "    }\n",
              "\n",
              "    .dataframe tbody tr th {\n",
              "        vertical-align: top;\n",
              "    }\n",
              "\n",
              "    .dataframe thead th {\n",
              "        text-align: right;\n",
              "    }\n",
              "</style>\n",
              "<table border=\"1\" class=\"dataframe\">\n",
              "  <thead>\n",
              "    <tr style=\"text-align: right;\">\n",
              "      <th></th>\n",
              "      <th>fare_amount</th>\n",
              "      <th>fare_class</th>\n",
              "      <th>passenger_count</th>\n",
              "      <th>Year</th>\n",
              "      <th>Month</th>\n",
              "      <th>Day</th>\n",
              "      <th>Hours</th>\n",
              "      <th>Minutes</th>\n",
              "      <th>Total_distance</th>\n",
              "    </tr>\n",
              "  </thead>\n",
              "  <tbody>\n",
              "    <tr>\n",
              "      <th>16</th>\n",
              "      <td>14.1</td>\n",
              "      <td>1</td>\n",
              "      <td>2</td>\n",
              "      <td>2010</td>\n",
              "      <td>4</td>\n",
              "      <td>15</td>\n",
              "      <td>21</td>\n",
              "      <td>54</td>\n",
              "      <td>4.762431</td>\n",
              "    </tr>\n",
              "    <tr>\n",
              "      <th>41</th>\n",
              "      <td>15.3</td>\n",
              "      <td>1</td>\n",
              "      <td>1</td>\n",
              "      <td>2010</td>\n",
              "      <td>4</td>\n",
              "      <td>15</td>\n",
              "      <td>12</td>\n",
              "      <td>49</td>\n",
              "      <td>4.036362</td>\n",
              "    </tr>\n",
              "    <tr>\n",
              "      <th>119</th>\n",
              "      <td>14.1</td>\n",
              "      <td>1</td>\n",
              "      <td>1</td>\n",
              "      <td>2010</td>\n",
              "      <td>4</td>\n",
              "      <td>17</td>\n",
              "      <td>0</td>\n",
              "      <td>57</td>\n",
              "      <td>4.813083</td>\n",
              "    </tr>\n",
              "    <tr>\n",
              "      <th>126</th>\n",
              "      <td>21.3</td>\n",
              "      <td>1</td>\n",
              "      <td>4</td>\n",
              "      <td>2010</td>\n",
              "      <td>4</td>\n",
              "      <td>24</td>\n",
              "      <td>19</td>\n",
              "      <td>57</td>\n",
              "      <td>4.993292</td>\n",
              "    </tr>\n",
              "    <tr>\n",
              "      <th>131</th>\n",
              "      <td>16.5</td>\n",
              "      <td>1</td>\n",
              "      <td>4</td>\n",
              "      <td>2010</td>\n",
              "      <td>4</td>\n",
              "      <td>24</td>\n",
              "      <td>14</td>\n",
              "      <td>32</td>\n",
              "      <td>4.370085</td>\n",
              "    </tr>\n",
              "    <tr>\n",
              "      <th>...</th>\n",
              "      <td>...</td>\n",
              "      <td>...</td>\n",
              "      <td>...</td>\n",
              "      <td>...</td>\n",
              "      <td>...</td>\n",
              "      <td>...</td>\n",
              "      <td>...</td>\n",
              "      <td>...</td>\n",
              "      <td>...</td>\n",
              "    </tr>\n",
              "    <tr>\n",
              "      <th>119811</th>\n",
              "      <td>14.5</td>\n",
              "      <td>1</td>\n",
              "      <td>1</td>\n",
              "      <td>2010</td>\n",
              "      <td>4</td>\n",
              "      <td>20</td>\n",
              "      <td>10</td>\n",
              "      <td>51</td>\n",
              "      <td>4.894539</td>\n",
              "    </tr>\n",
              "    <tr>\n",
              "      <th>119829</th>\n",
              "      <td>23.3</td>\n",
              "      <td>1</td>\n",
              "      <td>2</td>\n",
              "      <td>2010</td>\n",
              "      <td>4</td>\n",
              "      <td>18</td>\n",
              "      <td>14</td>\n",
              "      <td>17</td>\n",
              "      <td>4.826615</td>\n",
              "    </tr>\n",
              "    <tr>\n",
              "      <th>119831</th>\n",
              "      <td>15.3</td>\n",
              "      <td>1</td>\n",
              "      <td>1</td>\n",
              "      <td>2010</td>\n",
              "      <td>4</td>\n",
              "      <td>23</td>\n",
              "      <td>20</td>\n",
              "      <td>20</td>\n",
              "      <td>4.664253</td>\n",
              "    </tr>\n",
              "    <tr>\n",
              "      <th>119877</th>\n",
              "      <td>14.5</td>\n",
              "      <td>1</td>\n",
              "      <td>1</td>\n",
              "      <td>2010</td>\n",
              "      <td>4</td>\n",
              "      <td>16</td>\n",
              "      <td>12</td>\n",
              "      <td>2</td>\n",
              "      <td>4.341504</td>\n",
              "    </tr>\n",
              "    <tr>\n",
              "      <th>119953</th>\n",
              "      <td>16.5</td>\n",
              "      <td>1</td>\n",
              "      <td>1</td>\n",
              "      <td>2010</td>\n",
              "      <td>4</td>\n",
              "      <td>22</td>\n",
              "      <td>11</td>\n",
              "      <td>38</td>\n",
              "      <td>4.915730</td>\n",
              "    </tr>\n",
              "  </tbody>\n",
              "</table>\n",
              "<p>2121 rows × 9 columns</p>\n",
              "</div>"
            ],
            "text/plain": [
              "        fare_amount  fare_class  ...  Minutes  Total_distance\n",
              "16             14.1           1  ...       54        4.762431\n",
              "41             15.3           1  ...       49        4.036362\n",
              "119            14.1           1  ...       57        4.813083\n",
              "126            21.3           1  ...       57        4.993292\n",
              "131            16.5           1  ...       32        4.370085\n",
              "...             ...         ...  ...      ...             ...\n",
              "119811         14.5           1  ...       51        4.894539\n",
              "119829         23.3           1  ...       17        4.826615\n",
              "119831         15.3           1  ...       20        4.664253\n",
              "119877         14.5           1  ...        2        4.341504\n",
              "119953         16.5           1  ...       38        4.915730\n",
              "\n",
              "[2121 rows x 9 columns]"
            ]
          },
          "metadata": {
            "tags": []
          },
          "execution_count": 291
        }
      ]
    },
    {
      "cell_type": "code",
      "metadata": {
        "colab": {
          "base_uri": "https://localhost:8080/",
          "height": 206
        },
        "id": "9w4xDZ9q9LLb",
        "outputId": "5a6b8fa6-e83b-4e03-c290-16db76f38352"
      },
      "source": [
        "df = df.drop(df[(df['fare_amount'] > 13) & (df['Total_distance'] < 5)].index)\r\n",
        "df.head()"
      ],
      "execution_count": 292,
      "outputs": [
        {
          "output_type": "execute_result",
          "data": {
            "text/html": [
              "<div>\n",
              "<style scoped>\n",
              "    .dataframe tbody tr th:only-of-type {\n",
              "        vertical-align: middle;\n",
              "    }\n",
              "\n",
              "    .dataframe tbody tr th {\n",
              "        vertical-align: top;\n",
              "    }\n",
              "\n",
              "    .dataframe thead th {\n",
              "        text-align: right;\n",
              "    }\n",
              "</style>\n",
              "<table border=\"1\" class=\"dataframe\">\n",
              "  <thead>\n",
              "    <tr style=\"text-align: right;\">\n",
              "      <th></th>\n",
              "      <th>fare_amount</th>\n",
              "      <th>fare_class</th>\n",
              "      <th>passenger_count</th>\n",
              "      <th>Year</th>\n",
              "      <th>Month</th>\n",
              "      <th>Day</th>\n",
              "      <th>Hours</th>\n",
              "      <th>Minutes</th>\n",
              "      <th>Total_distance</th>\n",
              "    </tr>\n",
              "  </thead>\n",
              "  <tbody>\n",
              "    <tr>\n",
              "      <th>0</th>\n",
              "      <td>6.5</td>\n",
              "      <td>0</td>\n",
              "      <td>1</td>\n",
              "      <td>2010</td>\n",
              "      <td>4</td>\n",
              "      <td>19</td>\n",
              "      <td>8</td>\n",
              "      <td>17</td>\n",
              "      <td>2.126312</td>\n",
              "    </tr>\n",
              "    <tr>\n",
              "      <th>2</th>\n",
              "      <td>10.1</td>\n",
              "      <td>1</td>\n",
              "      <td>2</td>\n",
              "      <td>2010</td>\n",
              "      <td>4</td>\n",
              "      <td>17</td>\n",
              "      <td>11</td>\n",
              "      <td>23</td>\n",
              "      <td>3.326763</td>\n",
              "    </tr>\n",
              "    <tr>\n",
              "      <th>4</th>\n",
              "      <td>19.7</td>\n",
              "      <td>1</td>\n",
              "      <td>1</td>\n",
              "      <td>2010</td>\n",
              "      <td>4</td>\n",
              "      <td>17</td>\n",
              "      <td>2</td>\n",
              "      <td>19</td>\n",
              "      <td>7.231321</td>\n",
              "    </tr>\n",
              "    <tr>\n",
              "      <th>6</th>\n",
              "      <td>4.9</td>\n",
              "      <td>0</td>\n",
              "      <td>1</td>\n",
              "      <td>2010</td>\n",
              "      <td>4</td>\n",
              "      <td>23</td>\n",
              "      <td>19</td>\n",
              "      <td>27</td>\n",
              "      <td>1.042304</td>\n",
              "    </tr>\n",
              "    <tr>\n",
              "      <th>7</th>\n",
              "      <td>4.9</td>\n",
              "      <td>0</td>\n",
              "      <td>1</td>\n",
              "      <td>2010</td>\n",
              "      <td>4</td>\n",
              "      <td>15</td>\n",
              "      <td>9</td>\n",
              "      <td>3</td>\n",
              "      <td>1.089064</td>\n",
              "    </tr>\n",
              "  </tbody>\n",
              "</table>\n",
              "</div>"
            ],
            "text/plain": [
              "   fare_amount  fare_class  passenger_count  ...  Hours  Minutes  Total_distance\n",
              "0          6.5           0                1  ...      8       17        2.126312\n",
              "2         10.1           1                2  ...     11       23        3.326763\n",
              "4         19.7           1                1  ...      2       19        7.231321\n",
              "6          4.9           0                1  ...     19       27        1.042304\n",
              "7          4.9           0                1  ...      9        3        1.089064\n",
              "\n",
              "[5 rows x 9 columns]"
            ]
          },
          "metadata": {
            "tags": []
          },
          "execution_count": 292
        }
      ]
    },
    {
      "cell_type": "code",
      "metadata": {
        "colab": {
          "base_uri": "https://localhost:8080/",
          "height": 424
        },
        "id": "75uIbidG9xss",
        "outputId": "882b15a2-b2ac-4dd9-bdf4-0c4c17c6b63b"
      },
      "source": [
        "df[(df['fare_amount'] > 21) & (df['Total_distance'] < 10)]"
      ],
      "execution_count": 293,
      "outputs": [
        {
          "output_type": "execute_result",
          "data": {
            "text/html": [
              "<div>\n",
              "<style scoped>\n",
              "    .dataframe tbody tr th:only-of-type {\n",
              "        vertical-align: middle;\n",
              "    }\n",
              "\n",
              "    .dataframe tbody tr th {\n",
              "        vertical-align: top;\n",
              "    }\n",
              "\n",
              "    .dataframe thead th {\n",
              "        text-align: right;\n",
              "    }\n",
              "</style>\n",
              "<table border=\"1\" class=\"dataframe\">\n",
              "  <thead>\n",
              "    <tr style=\"text-align: right;\">\n",
              "      <th></th>\n",
              "      <th>fare_amount</th>\n",
              "      <th>fare_class</th>\n",
              "      <th>passenger_count</th>\n",
              "      <th>Year</th>\n",
              "      <th>Month</th>\n",
              "      <th>Day</th>\n",
              "      <th>Hours</th>\n",
              "      <th>Minutes</th>\n",
              "      <th>Total_distance</th>\n",
              "    </tr>\n",
              "  </thead>\n",
              "  <tbody>\n",
              "    <tr>\n",
              "      <th>20</th>\n",
              "      <td>36.00</td>\n",
              "      <td>1</td>\n",
              "      <td>1</td>\n",
              "      <td>2010</td>\n",
              "      <td>4</td>\n",
              "      <td>20</td>\n",
              "      <td>11</td>\n",
              "      <td>27</td>\n",
              "      <td>9.434908</td>\n",
              "    </tr>\n",
              "    <tr>\n",
              "      <th>30</th>\n",
              "      <td>25.47</td>\n",
              "      <td>1</td>\n",
              "      <td>1</td>\n",
              "      <td>2010</td>\n",
              "      <td>4</td>\n",
              "      <td>17</td>\n",
              "      <td>17</td>\n",
              "      <td>32</td>\n",
              "      <td>5.456683</td>\n",
              "    </tr>\n",
              "    <tr>\n",
              "      <th>82</th>\n",
              "      <td>25.47</td>\n",
              "      <td>1</td>\n",
              "      <td>1</td>\n",
              "      <td>2010</td>\n",
              "      <td>4</td>\n",
              "      <td>23</td>\n",
              "      <td>17</td>\n",
              "      <td>22</td>\n",
              "      <td>6.981611</td>\n",
              "    </tr>\n",
              "    <tr>\n",
              "      <th>120</th>\n",
              "      <td>23.30</td>\n",
              "      <td>1</td>\n",
              "      <td>2</td>\n",
              "      <td>2010</td>\n",
              "      <td>4</td>\n",
              "      <td>14</td>\n",
              "      <td>23</td>\n",
              "      <td>6</td>\n",
              "      <td>7.030089</td>\n",
              "    </tr>\n",
              "    <tr>\n",
              "      <th>212</th>\n",
              "      <td>22.90</td>\n",
              "      <td>1</td>\n",
              "      <td>1</td>\n",
              "      <td>2010</td>\n",
              "      <td>4</td>\n",
              "      <td>16</td>\n",
              "      <td>19</td>\n",
              "      <td>24</td>\n",
              "      <td>9.999087</td>\n",
              "    </tr>\n",
              "    <tr>\n",
              "      <th>...</th>\n",
              "      <td>...</td>\n",
              "      <td>...</td>\n",
              "      <td>...</td>\n",
              "      <td>...</td>\n",
              "      <td>...</td>\n",
              "      <td>...</td>\n",
              "      <td>...</td>\n",
              "      <td>...</td>\n",
              "      <td>...</td>\n",
              "    </tr>\n",
              "    <tr>\n",
              "      <th>119689</th>\n",
              "      <td>25.47</td>\n",
              "      <td>1</td>\n",
              "      <td>1</td>\n",
              "      <td>2010</td>\n",
              "      <td>4</td>\n",
              "      <td>18</td>\n",
              "      <td>21</td>\n",
              "      <td>56</td>\n",
              "      <td>8.417278</td>\n",
              "    </tr>\n",
              "    <tr>\n",
              "      <th>119719</th>\n",
              "      <td>22.50</td>\n",
              "      <td>1</td>\n",
              "      <td>1</td>\n",
              "      <td>2010</td>\n",
              "      <td>4</td>\n",
              "      <td>13</td>\n",
              "      <td>8</td>\n",
              "      <td>15</td>\n",
              "      <td>8.259155</td>\n",
              "    </tr>\n",
              "    <tr>\n",
              "      <th>119803</th>\n",
              "      <td>33.07</td>\n",
              "      <td>1</td>\n",
              "      <td>1</td>\n",
              "      <td>2010</td>\n",
              "      <td>4</td>\n",
              "      <td>24</td>\n",
              "      <td>20</td>\n",
              "      <td>42</td>\n",
              "      <td>9.802024</td>\n",
              "    </tr>\n",
              "    <tr>\n",
              "      <th>119826</th>\n",
              "      <td>26.27</td>\n",
              "      <td>1</td>\n",
              "      <td>1</td>\n",
              "      <td>2010</td>\n",
              "      <td>4</td>\n",
              "      <td>14</td>\n",
              "      <td>19</td>\n",
              "      <td>42</td>\n",
              "      <td>9.932961</td>\n",
              "    </tr>\n",
              "    <tr>\n",
              "      <th>119942</th>\n",
              "      <td>23.70</td>\n",
              "      <td>1</td>\n",
              "      <td>1</td>\n",
              "      <td>2010</td>\n",
              "      <td>4</td>\n",
              "      <td>22</td>\n",
              "      <td>1</td>\n",
              "      <td>11</td>\n",
              "      <td>8.738891</td>\n",
              "    </tr>\n",
              "  </tbody>\n",
              "</table>\n",
              "<p>3033 rows × 9 columns</p>\n",
              "</div>"
            ],
            "text/plain": [
              "        fare_amount  fare_class  ...  Minutes  Total_distance\n",
              "20            36.00           1  ...       27        9.434908\n",
              "30            25.47           1  ...       32        5.456683\n",
              "82            25.47           1  ...       22        6.981611\n",
              "120           23.30           1  ...        6        7.030089\n",
              "212           22.90           1  ...       24        9.999087\n",
              "...             ...         ...  ...      ...             ...\n",
              "119689        25.47           1  ...       56        8.417278\n",
              "119719        22.50           1  ...       15        8.259155\n",
              "119803        33.07           1  ...       42        9.802024\n",
              "119826        26.27           1  ...       42        9.932961\n",
              "119942        23.70           1  ...       11        8.738891\n",
              "\n",
              "[3033 rows x 9 columns]"
            ]
          },
          "metadata": {
            "tags": []
          },
          "execution_count": 293
        }
      ]
    },
    {
      "cell_type": "code",
      "metadata": {
        "colab": {
          "base_uri": "https://localhost:8080/",
          "height": 206
        },
        "id": "98q-jNWb9LUu",
        "outputId": "ce7efbdf-3e8d-48c0-ebc7-1774fa75ae73"
      },
      "source": [
        "df = df.drop(df[(df['fare_amount'] > 21) & (df['Total_distance'] < 10)].index)\r\n",
        "df.head()"
      ],
      "execution_count": 294,
      "outputs": [
        {
          "output_type": "execute_result",
          "data": {
            "text/html": [
              "<div>\n",
              "<style scoped>\n",
              "    .dataframe tbody tr th:only-of-type {\n",
              "        vertical-align: middle;\n",
              "    }\n",
              "\n",
              "    .dataframe tbody tr th {\n",
              "        vertical-align: top;\n",
              "    }\n",
              "\n",
              "    .dataframe thead th {\n",
              "        text-align: right;\n",
              "    }\n",
              "</style>\n",
              "<table border=\"1\" class=\"dataframe\">\n",
              "  <thead>\n",
              "    <tr style=\"text-align: right;\">\n",
              "      <th></th>\n",
              "      <th>fare_amount</th>\n",
              "      <th>fare_class</th>\n",
              "      <th>passenger_count</th>\n",
              "      <th>Year</th>\n",
              "      <th>Month</th>\n",
              "      <th>Day</th>\n",
              "      <th>Hours</th>\n",
              "      <th>Minutes</th>\n",
              "      <th>Total_distance</th>\n",
              "    </tr>\n",
              "  </thead>\n",
              "  <tbody>\n",
              "    <tr>\n",
              "      <th>0</th>\n",
              "      <td>6.5</td>\n",
              "      <td>0</td>\n",
              "      <td>1</td>\n",
              "      <td>2010</td>\n",
              "      <td>4</td>\n",
              "      <td>19</td>\n",
              "      <td>8</td>\n",
              "      <td>17</td>\n",
              "      <td>2.126312</td>\n",
              "    </tr>\n",
              "    <tr>\n",
              "      <th>2</th>\n",
              "      <td>10.1</td>\n",
              "      <td>1</td>\n",
              "      <td>2</td>\n",
              "      <td>2010</td>\n",
              "      <td>4</td>\n",
              "      <td>17</td>\n",
              "      <td>11</td>\n",
              "      <td>23</td>\n",
              "      <td>3.326763</td>\n",
              "    </tr>\n",
              "    <tr>\n",
              "      <th>4</th>\n",
              "      <td>19.7</td>\n",
              "      <td>1</td>\n",
              "      <td>1</td>\n",
              "      <td>2010</td>\n",
              "      <td>4</td>\n",
              "      <td>17</td>\n",
              "      <td>2</td>\n",
              "      <td>19</td>\n",
              "      <td>7.231321</td>\n",
              "    </tr>\n",
              "    <tr>\n",
              "      <th>6</th>\n",
              "      <td>4.9</td>\n",
              "      <td>0</td>\n",
              "      <td>1</td>\n",
              "      <td>2010</td>\n",
              "      <td>4</td>\n",
              "      <td>23</td>\n",
              "      <td>19</td>\n",
              "      <td>27</td>\n",
              "      <td>1.042304</td>\n",
              "    </tr>\n",
              "    <tr>\n",
              "      <th>7</th>\n",
              "      <td>4.9</td>\n",
              "      <td>0</td>\n",
              "      <td>1</td>\n",
              "      <td>2010</td>\n",
              "      <td>4</td>\n",
              "      <td>15</td>\n",
              "      <td>9</td>\n",
              "      <td>3</td>\n",
              "      <td>1.089064</td>\n",
              "    </tr>\n",
              "  </tbody>\n",
              "</table>\n",
              "</div>"
            ],
            "text/plain": [
              "   fare_amount  fare_class  passenger_count  ...  Hours  Minutes  Total_distance\n",
              "0          6.5           0                1  ...      8       17        2.126312\n",
              "2         10.1           1                2  ...     11       23        3.326763\n",
              "4         19.7           1                1  ...      2       19        7.231321\n",
              "6          4.9           0                1  ...     19       27        1.042304\n",
              "7          4.9           0                1  ...      9        3        1.089064\n",
              "\n",
              "[5 rows x 9 columns]"
            ]
          },
          "metadata": {
            "tags": []
          },
          "execution_count": 294
        }
      ]
    },
    {
      "cell_type": "code",
      "metadata": {
        "colab": {
          "base_uri": "https://localhost:8080/"
        },
        "id": "7WzNzESHFreF",
        "outputId": "9298627f-1437-4e4d-b03f-29bc6aa02b41"
      },
      "source": [
        "df.shape"
      ],
      "execution_count": 295,
      "outputs": [
        {
          "output_type": "execute_result",
          "data": {
            "text/plain": [
              "(84984, 9)"
            ]
          },
          "metadata": {
            "tags": []
          },
          "execution_count": 295
        }
      ]
    },
    {
      "cell_type": "code",
      "metadata": {
        "colab": {
          "base_uri": "https://localhost:8080/"
        },
        "id": "wPhD8EX4F54X",
        "outputId": "ac5ed5a0-64d7-47fe-b588-d43946ba47b5"
      },
      "source": [
        "df['Total_distance'].max()"
      ],
      "execution_count": 296,
      "outputs": [
        {
          "output_type": "execute_result",
          "data": {
            "text/plain": [
              "28.846365025624596"
            ]
          },
          "metadata": {
            "tags": []
          },
          "execution_count": 296
        }
      ]
    },
    {
      "cell_type": "code",
      "metadata": {
        "colab": {
          "base_uri": "https://localhost:8080/"
        },
        "id": "VpaKI_d2GDaA",
        "outputId": "4636a11b-2810-4d4d-cb98-dbbc47128306"
      },
      "source": [
        "df['fare_amount'].max()"
      ],
      "execution_count": 297,
      "outputs": [
        {
          "output_type": "execute_result",
          "data": {
            "text/plain": [
              "49.9"
            ]
          },
          "metadata": {
            "tags": []
          },
          "execution_count": 297
        }
      ]
    },
    {
      "cell_type": "code",
      "metadata": {
        "colab": {
          "base_uri": "https://localhost:8080/",
          "height": 424
        },
        "id": "8z-C_cvnFuLM",
        "outputId": "b1613731-8e1c-4c65-d968-3349aaf56be2"
      },
      "source": [
        "df[(df['fare_amount'] > 30) & (df['Total_distance'] < 15)]"
      ],
      "execution_count": 298,
      "outputs": [
        {
          "output_type": "execute_result",
          "data": {
            "text/html": [
              "<div>\n",
              "<style scoped>\n",
              "    .dataframe tbody tr th:only-of-type {\n",
              "        vertical-align: middle;\n",
              "    }\n",
              "\n",
              "    .dataframe tbody tr th {\n",
              "        vertical-align: top;\n",
              "    }\n",
              "\n",
              "    .dataframe thead th {\n",
              "        text-align: right;\n",
              "    }\n",
              "</style>\n",
              "<table border=\"1\" class=\"dataframe\">\n",
              "  <thead>\n",
              "    <tr style=\"text-align: right;\">\n",
              "      <th></th>\n",
              "      <th>fare_amount</th>\n",
              "      <th>fare_class</th>\n",
              "      <th>passenger_count</th>\n",
              "      <th>Year</th>\n",
              "      <th>Month</th>\n",
              "      <th>Day</th>\n",
              "      <th>Hours</th>\n",
              "      <th>Minutes</th>\n",
              "      <th>Total_distance</th>\n",
              "    </tr>\n",
              "  </thead>\n",
              "  <tbody>\n",
              "    <tr>\n",
              "      <th>64</th>\n",
              "      <td>33.30</td>\n",
              "      <td>1</td>\n",
              "      <td>1</td>\n",
              "      <td>2010</td>\n",
              "      <td>4</td>\n",
              "      <td>15</td>\n",
              "      <td>17</td>\n",
              "      <td>18</td>\n",
              "      <td>13.456857</td>\n",
              "    </tr>\n",
              "    <tr>\n",
              "      <th>168</th>\n",
              "      <td>39.30</td>\n",
              "      <td>1</td>\n",
              "      <td>2</td>\n",
              "      <td>2010</td>\n",
              "      <td>4</td>\n",
              "      <td>25</td>\n",
              "      <td>0</td>\n",
              "      <td>51</td>\n",
              "      <td>13.270664</td>\n",
              "    </tr>\n",
              "    <tr>\n",
              "      <th>273</th>\n",
              "      <td>38.67</td>\n",
              "      <td>1</td>\n",
              "      <td>1</td>\n",
              "      <td>2010</td>\n",
              "      <td>4</td>\n",
              "      <td>16</td>\n",
              "      <td>15</td>\n",
              "      <td>29</td>\n",
              "      <td>10.996258</td>\n",
              "    </tr>\n",
              "    <tr>\n",
              "      <th>328</th>\n",
              "      <td>34.10</td>\n",
              "      <td>1</td>\n",
              "      <td>2</td>\n",
              "      <td>2010</td>\n",
              "      <td>4</td>\n",
              "      <td>23</td>\n",
              "      <td>20</td>\n",
              "      <td>26</td>\n",
              "      <td>14.621577</td>\n",
              "    </tr>\n",
              "    <tr>\n",
              "      <th>388</th>\n",
              "      <td>31.47</td>\n",
              "      <td>1</td>\n",
              "      <td>1</td>\n",
              "      <td>2010</td>\n",
              "      <td>4</td>\n",
              "      <td>16</td>\n",
              "      <td>7</td>\n",
              "      <td>30</td>\n",
              "      <td>13.024054</td>\n",
              "    </tr>\n",
              "    <tr>\n",
              "      <th>...</th>\n",
              "      <td>...</td>\n",
              "      <td>...</td>\n",
              "      <td>...</td>\n",
              "      <td>...</td>\n",
              "      <td>...</td>\n",
              "      <td>...</td>\n",
              "      <td>...</td>\n",
              "      <td>...</td>\n",
              "      <td>...</td>\n",
              "    </tr>\n",
              "    <tr>\n",
              "      <th>119766</th>\n",
              "      <td>36.90</td>\n",
              "      <td>1</td>\n",
              "      <td>2</td>\n",
              "      <td>2010</td>\n",
              "      <td>4</td>\n",
              "      <td>18</td>\n",
              "      <td>22</td>\n",
              "      <td>33</td>\n",
              "      <td>13.814849</td>\n",
              "    </tr>\n",
              "    <tr>\n",
              "      <th>119837</th>\n",
              "      <td>38.67</td>\n",
              "      <td>1</td>\n",
              "      <td>1</td>\n",
              "      <td>2010</td>\n",
              "      <td>4</td>\n",
              "      <td>21</td>\n",
              "      <td>13</td>\n",
              "      <td>56</td>\n",
              "      <td>10.578121</td>\n",
              "    </tr>\n",
              "    <tr>\n",
              "      <th>119890</th>\n",
              "      <td>35.70</td>\n",
              "      <td>1</td>\n",
              "      <td>1</td>\n",
              "      <td>2010</td>\n",
              "      <td>4</td>\n",
              "      <td>17</td>\n",
              "      <td>17</td>\n",
              "      <td>11</td>\n",
              "      <td>11.502496</td>\n",
              "    </tr>\n",
              "    <tr>\n",
              "      <th>119931</th>\n",
              "      <td>44.50</td>\n",
              "      <td>1</td>\n",
              "      <td>1</td>\n",
              "      <td>2010</td>\n",
              "      <td>4</td>\n",
              "      <td>16</td>\n",
              "      <td>0</td>\n",
              "      <td>16</td>\n",
              "      <td>10.114594</td>\n",
              "    </tr>\n",
              "    <tr>\n",
              "      <th>119958</th>\n",
              "      <td>32.10</td>\n",
              "      <td>1</td>\n",
              "      <td>2</td>\n",
              "      <td>2010</td>\n",
              "      <td>4</td>\n",
              "      <td>18</td>\n",
              "      <td>18</td>\n",
              "      <td>27</td>\n",
              "      <td>12.307624</td>\n",
              "    </tr>\n",
              "  </tbody>\n",
              "</table>\n",
              "<p>943 rows × 9 columns</p>\n",
              "</div>"
            ],
            "text/plain": [
              "        fare_amount  fare_class  ...  Minutes  Total_distance\n",
              "64            33.30           1  ...       18       13.456857\n",
              "168           39.30           1  ...       51       13.270664\n",
              "273           38.67           1  ...       29       10.996258\n",
              "328           34.10           1  ...       26       14.621577\n",
              "388           31.47           1  ...       30       13.024054\n",
              "...             ...         ...  ...      ...             ...\n",
              "119766        36.90           1  ...       33       13.814849\n",
              "119837        38.67           1  ...       56       10.578121\n",
              "119890        35.70           1  ...       11       11.502496\n",
              "119931        44.50           1  ...       16       10.114594\n",
              "119958        32.10           1  ...       27       12.307624\n",
              "\n",
              "[943 rows x 9 columns]"
            ]
          },
          "metadata": {
            "tags": []
          },
          "execution_count": 298
        }
      ]
    },
    {
      "cell_type": "code",
      "metadata": {
        "colab": {
          "base_uri": "https://localhost:8080/",
          "height": 206
        },
        "id": "j_gI6WRAGgoh",
        "outputId": "4e7719ff-1fbc-4997-bb67-eca975fcd957"
      },
      "source": [
        "df = df.drop(df[(df['fare_amount'] > 30) & (df['Total_distance'] < 15)].index)\r\n",
        "df.head()"
      ],
      "execution_count": 299,
      "outputs": [
        {
          "output_type": "execute_result",
          "data": {
            "text/html": [
              "<div>\n",
              "<style scoped>\n",
              "    .dataframe tbody tr th:only-of-type {\n",
              "        vertical-align: middle;\n",
              "    }\n",
              "\n",
              "    .dataframe tbody tr th {\n",
              "        vertical-align: top;\n",
              "    }\n",
              "\n",
              "    .dataframe thead th {\n",
              "        text-align: right;\n",
              "    }\n",
              "</style>\n",
              "<table border=\"1\" class=\"dataframe\">\n",
              "  <thead>\n",
              "    <tr style=\"text-align: right;\">\n",
              "      <th></th>\n",
              "      <th>fare_amount</th>\n",
              "      <th>fare_class</th>\n",
              "      <th>passenger_count</th>\n",
              "      <th>Year</th>\n",
              "      <th>Month</th>\n",
              "      <th>Day</th>\n",
              "      <th>Hours</th>\n",
              "      <th>Minutes</th>\n",
              "      <th>Total_distance</th>\n",
              "    </tr>\n",
              "  </thead>\n",
              "  <tbody>\n",
              "    <tr>\n",
              "      <th>0</th>\n",
              "      <td>6.5</td>\n",
              "      <td>0</td>\n",
              "      <td>1</td>\n",
              "      <td>2010</td>\n",
              "      <td>4</td>\n",
              "      <td>19</td>\n",
              "      <td>8</td>\n",
              "      <td>17</td>\n",
              "      <td>2.126312</td>\n",
              "    </tr>\n",
              "    <tr>\n",
              "      <th>2</th>\n",
              "      <td>10.1</td>\n",
              "      <td>1</td>\n",
              "      <td>2</td>\n",
              "      <td>2010</td>\n",
              "      <td>4</td>\n",
              "      <td>17</td>\n",
              "      <td>11</td>\n",
              "      <td>23</td>\n",
              "      <td>3.326763</td>\n",
              "    </tr>\n",
              "    <tr>\n",
              "      <th>4</th>\n",
              "      <td>19.7</td>\n",
              "      <td>1</td>\n",
              "      <td>1</td>\n",
              "      <td>2010</td>\n",
              "      <td>4</td>\n",
              "      <td>17</td>\n",
              "      <td>2</td>\n",
              "      <td>19</td>\n",
              "      <td>7.231321</td>\n",
              "    </tr>\n",
              "    <tr>\n",
              "      <th>6</th>\n",
              "      <td>4.9</td>\n",
              "      <td>0</td>\n",
              "      <td>1</td>\n",
              "      <td>2010</td>\n",
              "      <td>4</td>\n",
              "      <td>23</td>\n",
              "      <td>19</td>\n",
              "      <td>27</td>\n",
              "      <td>1.042304</td>\n",
              "    </tr>\n",
              "    <tr>\n",
              "      <th>7</th>\n",
              "      <td>4.9</td>\n",
              "      <td>0</td>\n",
              "      <td>1</td>\n",
              "      <td>2010</td>\n",
              "      <td>4</td>\n",
              "      <td>15</td>\n",
              "      <td>9</td>\n",
              "      <td>3</td>\n",
              "      <td>1.089064</td>\n",
              "    </tr>\n",
              "  </tbody>\n",
              "</table>\n",
              "</div>"
            ],
            "text/plain": [
              "   fare_amount  fare_class  passenger_count  ...  Hours  Minutes  Total_distance\n",
              "0          6.5           0                1  ...      8       17        2.126312\n",
              "2         10.1           1                2  ...     11       23        3.326763\n",
              "4         19.7           1                1  ...      2       19        7.231321\n",
              "6          4.9           0                1  ...     19       27        1.042304\n",
              "7          4.9           0                1  ...      9        3        1.089064\n",
              "\n",
              "[5 rows x 9 columns]"
            ]
          },
          "metadata": {
            "tags": []
          },
          "execution_count": 299
        }
      ]
    },
    {
      "cell_type": "code",
      "metadata": {
        "colab": {
          "base_uri": "https://localhost:8080/",
          "height": 424
        },
        "id": "-rPJSc24FuPK",
        "outputId": "a5d14296-2e84-4a78-9325-b1cea72af157"
      },
      "source": [
        "df[(df['fare_amount'] > 38) & (df['Total_distance'] < 20)]"
      ],
      "execution_count": 300,
      "outputs": [
        {
          "output_type": "execute_result",
          "data": {
            "text/html": [
              "<div>\n",
              "<style scoped>\n",
              "    .dataframe tbody tr th:only-of-type {\n",
              "        vertical-align: middle;\n",
              "    }\n",
              "\n",
              "    .dataframe tbody tr th {\n",
              "        vertical-align: top;\n",
              "    }\n",
              "\n",
              "    .dataframe thead th {\n",
              "        text-align: right;\n",
              "    }\n",
              "</style>\n",
              "<table border=\"1\" class=\"dataframe\">\n",
              "  <thead>\n",
              "    <tr style=\"text-align: right;\">\n",
              "      <th></th>\n",
              "      <th>fare_amount</th>\n",
              "      <th>fare_class</th>\n",
              "      <th>passenger_count</th>\n",
              "      <th>Year</th>\n",
              "      <th>Month</th>\n",
              "      <th>Day</th>\n",
              "      <th>Hours</th>\n",
              "      <th>Minutes</th>\n",
              "      <th>Total_distance</th>\n",
              "    </tr>\n",
              "  </thead>\n",
              "  <tbody>\n",
              "    <tr>\n",
              "      <th>128</th>\n",
              "      <td>45.00</td>\n",
              "      <td>1</td>\n",
              "      <td>1</td>\n",
              "      <td>2010</td>\n",
              "      <td>4</td>\n",
              "      <td>14</td>\n",
              "      <td>13</td>\n",
              "      <td>44</td>\n",
              "      <td>19.861861</td>\n",
              "    </tr>\n",
              "    <tr>\n",
              "      <th>152</th>\n",
              "      <td>45.00</td>\n",
              "      <td>1</td>\n",
              "      <td>1</td>\n",
              "      <td>2010</td>\n",
              "      <td>4</td>\n",
              "      <td>13</td>\n",
              "      <td>10</td>\n",
              "      <td>0</td>\n",
              "      <td>18.543371</td>\n",
              "    </tr>\n",
              "    <tr>\n",
              "      <th>359</th>\n",
              "      <td>45.00</td>\n",
              "      <td>1</td>\n",
              "      <td>1</td>\n",
              "      <td>2010</td>\n",
              "      <td>4</td>\n",
              "      <td>18</td>\n",
              "      <td>6</td>\n",
              "      <td>44</td>\n",
              "      <td>19.915316</td>\n",
              "    </tr>\n",
              "    <tr>\n",
              "      <th>382</th>\n",
              "      <td>43.30</td>\n",
              "      <td>1</td>\n",
              "      <td>2</td>\n",
              "      <td>2010</td>\n",
              "      <td>4</td>\n",
              "      <td>12</td>\n",
              "      <td>18</td>\n",
              "      <td>52</td>\n",
              "      <td>18.869001</td>\n",
              "    </tr>\n",
              "    <tr>\n",
              "      <th>503</th>\n",
              "      <td>41.39</td>\n",
              "      <td>1</td>\n",
              "      <td>1</td>\n",
              "      <td>2010</td>\n",
              "      <td>4</td>\n",
              "      <td>24</td>\n",
              "      <td>2</td>\n",
              "      <td>16</td>\n",
              "      <td>17.886169</td>\n",
              "    </tr>\n",
              "    <tr>\n",
              "      <th>...</th>\n",
              "      <td>...</td>\n",
              "      <td>...</td>\n",
              "      <td>...</td>\n",
              "      <td>...</td>\n",
              "      <td>...</td>\n",
              "      <td>...</td>\n",
              "      <td>...</td>\n",
              "      <td>...</td>\n",
              "      <td>...</td>\n",
              "    </tr>\n",
              "    <tr>\n",
              "      <th>119389</th>\n",
              "      <td>41.07</td>\n",
              "      <td>1</td>\n",
              "      <td>1</td>\n",
              "      <td>2010</td>\n",
              "      <td>4</td>\n",
              "      <td>18</td>\n",
              "      <td>18</td>\n",
              "      <td>2</td>\n",
              "      <td>15.456354</td>\n",
              "    </tr>\n",
              "    <tr>\n",
              "      <th>119446</th>\n",
              "      <td>45.00</td>\n",
              "      <td>1</td>\n",
              "      <td>1</td>\n",
              "      <td>2010</td>\n",
              "      <td>4</td>\n",
              "      <td>14</td>\n",
              "      <td>6</td>\n",
              "      <td>43</td>\n",
              "      <td>19.882897</td>\n",
              "    </tr>\n",
              "    <tr>\n",
              "      <th>119497</th>\n",
              "      <td>49.57</td>\n",
              "      <td>1</td>\n",
              "      <td>1</td>\n",
              "      <td>2010</td>\n",
              "      <td>4</td>\n",
              "      <td>17</td>\n",
              "      <td>0</td>\n",
              "      <td>28</td>\n",
              "      <td>19.878600</td>\n",
              "    </tr>\n",
              "    <tr>\n",
              "      <th>119524</th>\n",
              "      <td>45.00</td>\n",
              "      <td>1</td>\n",
              "      <td>5</td>\n",
              "      <td>2010</td>\n",
              "      <td>4</td>\n",
              "      <td>15</td>\n",
              "      <td>5</td>\n",
              "      <td>33</td>\n",
              "      <td>19.846287</td>\n",
              "    </tr>\n",
              "    <tr>\n",
              "      <th>119616</th>\n",
              "      <td>46.10</td>\n",
              "      <td>1</td>\n",
              "      <td>2</td>\n",
              "      <td>2010</td>\n",
              "      <td>4</td>\n",
              "      <td>12</td>\n",
              "      <td>22</td>\n",
              "      <td>49</td>\n",
              "      <td>19.868684</td>\n",
              "    </tr>\n",
              "  </tbody>\n",
              "</table>\n",
              "<p>554 rows × 9 columns</p>\n",
              "</div>"
            ],
            "text/plain": [
              "        fare_amount  fare_class  ...  Minutes  Total_distance\n",
              "128           45.00           1  ...       44       19.861861\n",
              "152           45.00           1  ...        0       18.543371\n",
              "359           45.00           1  ...       44       19.915316\n",
              "382           43.30           1  ...       52       18.869001\n",
              "503           41.39           1  ...       16       17.886169\n",
              "...             ...         ...  ...      ...             ...\n",
              "119389        41.07           1  ...        2       15.456354\n",
              "119446        45.00           1  ...       43       19.882897\n",
              "119497        49.57           1  ...       28       19.878600\n",
              "119524        45.00           1  ...       33       19.846287\n",
              "119616        46.10           1  ...       49       19.868684\n",
              "\n",
              "[554 rows x 9 columns]"
            ]
          },
          "metadata": {
            "tags": []
          },
          "execution_count": 300
        }
      ]
    },
    {
      "cell_type": "code",
      "metadata": {
        "colab": {
          "base_uri": "https://localhost:8080/",
          "height": 206
        },
        "id": "xHvZXfoTHQXp",
        "outputId": "ba803c71-75f2-4df8-df43-3de6504dfa8e"
      },
      "source": [
        "df = df.drop(df[(df['fare_amount'] > 38) & (df['Total_distance'] < 20)].index)\r\n",
        "df.head()"
      ],
      "execution_count": 301,
      "outputs": [
        {
          "output_type": "execute_result",
          "data": {
            "text/html": [
              "<div>\n",
              "<style scoped>\n",
              "    .dataframe tbody tr th:only-of-type {\n",
              "        vertical-align: middle;\n",
              "    }\n",
              "\n",
              "    .dataframe tbody tr th {\n",
              "        vertical-align: top;\n",
              "    }\n",
              "\n",
              "    .dataframe thead th {\n",
              "        text-align: right;\n",
              "    }\n",
              "</style>\n",
              "<table border=\"1\" class=\"dataframe\">\n",
              "  <thead>\n",
              "    <tr style=\"text-align: right;\">\n",
              "      <th></th>\n",
              "      <th>fare_amount</th>\n",
              "      <th>fare_class</th>\n",
              "      <th>passenger_count</th>\n",
              "      <th>Year</th>\n",
              "      <th>Month</th>\n",
              "      <th>Day</th>\n",
              "      <th>Hours</th>\n",
              "      <th>Minutes</th>\n",
              "      <th>Total_distance</th>\n",
              "    </tr>\n",
              "  </thead>\n",
              "  <tbody>\n",
              "    <tr>\n",
              "      <th>0</th>\n",
              "      <td>6.5</td>\n",
              "      <td>0</td>\n",
              "      <td>1</td>\n",
              "      <td>2010</td>\n",
              "      <td>4</td>\n",
              "      <td>19</td>\n",
              "      <td>8</td>\n",
              "      <td>17</td>\n",
              "      <td>2.126312</td>\n",
              "    </tr>\n",
              "    <tr>\n",
              "      <th>2</th>\n",
              "      <td>10.1</td>\n",
              "      <td>1</td>\n",
              "      <td>2</td>\n",
              "      <td>2010</td>\n",
              "      <td>4</td>\n",
              "      <td>17</td>\n",
              "      <td>11</td>\n",
              "      <td>23</td>\n",
              "      <td>3.326763</td>\n",
              "    </tr>\n",
              "    <tr>\n",
              "      <th>4</th>\n",
              "      <td>19.7</td>\n",
              "      <td>1</td>\n",
              "      <td>1</td>\n",
              "      <td>2010</td>\n",
              "      <td>4</td>\n",
              "      <td>17</td>\n",
              "      <td>2</td>\n",
              "      <td>19</td>\n",
              "      <td>7.231321</td>\n",
              "    </tr>\n",
              "    <tr>\n",
              "      <th>6</th>\n",
              "      <td>4.9</td>\n",
              "      <td>0</td>\n",
              "      <td>1</td>\n",
              "      <td>2010</td>\n",
              "      <td>4</td>\n",
              "      <td>23</td>\n",
              "      <td>19</td>\n",
              "      <td>27</td>\n",
              "      <td>1.042304</td>\n",
              "    </tr>\n",
              "    <tr>\n",
              "      <th>7</th>\n",
              "      <td>4.9</td>\n",
              "      <td>0</td>\n",
              "      <td>1</td>\n",
              "      <td>2010</td>\n",
              "      <td>4</td>\n",
              "      <td>15</td>\n",
              "      <td>9</td>\n",
              "      <td>3</td>\n",
              "      <td>1.089064</td>\n",
              "    </tr>\n",
              "  </tbody>\n",
              "</table>\n",
              "</div>"
            ],
            "text/plain": [
              "   fare_amount  fare_class  passenger_count  ...  Hours  Minutes  Total_distance\n",
              "0          6.5           0                1  ...      8       17        2.126312\n",
              "2         10.1           1                2  ...     11       23        3.326763\n",
              "4         19.7           1                1  ...      2       19        7.231321\n",
              "6          4.9           0                1  ...     19       27        1.042304\n",
              "7          4.9           0                1  ...      9        3        1.089064\n",
              "\n",
              "[5 rows x 9 columns]"
            ]
          },
          "metadata": {
            "tags": []
          },
          "execution_count": 301
        }
      ]
    },
    {
      "cell_type": "code",
      "metadata": {
        "colab": {
          "base_uri": "https://localhost:8080/",
          "height": 424
        },
        "id": "b2nBC12xFuTm",
        "outputId": "461135b0-e820-43f7-a11d-c90ed56fe358"
      },
      "source": [
        "df[(df['fare_amount'] > 45) & (df['Total_distance'] < 25)]"
      ],
      "execution_count": 302,
      "outputs": [
        {
          "output_type": "execute_result",
          "data": {
            "text/html": [
              "<div>\n",
              "<style scoped>\n",
              "    .dataframe tbody tr th:only-of-type {\n",
              "        vertical-align: middle;\n",
              "    }\n",
              "\n",
              "    .dataframe tbody tr th {\n",
              "        vertical-align: top;\n",
              "    }\n",
              "\n",
              "    .dataframe thead th {\n",
              "        text-align: right;\n",
              "    }\n",
              "</style>\n",
              "<table border=\"1\" class=\"dataframe\">\n",
              "  <thead>\n",
              "    <tr style=\"text-align: right;\">\n",
              "      <th></th>\n",
              "      <th>fare_amount</th>\n",
              "      <th>fare_class</th>\n",
              "      <th>passenger_count</th>\n",
              "      <th>Year</th>\n",
              "      <th>Month</th>\n",
              "      <th>Day</th>\n",
              "      <th>Hours</th>\n",
              "      <th>Minutes</th>\n",
              "      <th>Total_distance</th>\n",
              "    </tr>\n",
              "  </thead>\n",
              "  <tbody>\n",
              "    <tr>\n",
              "      <th>158</th>\n",
              "      <td>49.57</td>\n",
              "      <td>1</td>\n",
              "      <td>4</td>\n",
              "      <td>2010</td>\n",
              "      <td>4</td>\n",
              "      <td>23</td>\n",
              "      <td>6</td>\n",
              "      <td>10</td>\n",
              "      <td>20.100177</td>\n",
              "    </tr>\n",
              "    <tr>\n",
              "      <th>250</th>\n",
              "      <td>49.57</td>\n",
              "      <td>1</td>\n",
              "      <td>1</td>\n",
              "      <td>2010</td>\n",
              "      <td>4</td>\n",
              "      <td>21</td>\n",
              "      <td>12</td>\n",
              "      <td>31</td>\n",
              "      <td>22.440213</td>\n",
              "    </tr>\n",
              "    <tr>\n",
              "      <th>330</th>\n",
              "      <td>49.57</td>\n",
              "      <td>1</td>\n",
              "      <td>1</td>\n",
              "      <td>2010</td>\n",
              "      <td>4</td>\n",
              "      <td>19</td>\n",
              "      <td>22</td>\n",
              "      <td>7</td>\n",
              "      <td>20.932646</td>\n",
              "    </tr>\n",
              "    <tr>\n",
              "      <th>663</th>\n",
              "      <td>49.57</td>\n",
              "      <td>1</td>\n",
              "      <td>1</td>\n",
              "      <td>2010</td>\n",
              "      <td>4</td>\n",
              "      <td>24</td>\n",
              "      <td>19</td>\n",
              "      <td>31</td>\n",
              "      <td>22.585147</td>\n",
              "    </tr>\n",
              "    <tr>\n",
              "      <th>740</th>\n",
              "      <td>49.00</td>\n",
              "      <td>1</td>\n",
              "      <td>1</td>\n",
              "      <td>2010</td>\n",
              "      <td>4</td>\n",
              "      <td>13</td>\n",
              "      <td>19</td>\n",
              "      <td>3</td>\n",
              "      <td>20.279862</td>\n",
              "    </tr>\n",
              "    <tr>\n",
              "      <th>...</th>\n",
              "      <td>...</td>\n",
              "      <td>...</td>\n",
              "      <td>...</td>\n",
              "      <td>...</td>\n",
              "      <td>...</td>\n",
              "      <td>...</td>\n",
              "      <td>...</td>\n",
              "      <td>...</td>\n",
              "      <td>...</td>\n",
              "    </tr>\n",
              "    <tr>\n",
              "      <th>119314</th>\n",
              "      <td>49.57</td>\n",
              "      <td>1</td>\n",
              "      <td>1</td>\n",
              "      <td>2010</td>\n",
              "      <td>4</td>\n",
              "      <td>20</td>\n",
              "      <td>14</td>\n",
              "      <td>40</td>\n",
              "      <td>23.975990</td>\n",
              "    </tr>\n",
              "    <tr>\n",
              "      <th>119454</th>\n",
              "      <td>49.57</td>\n",
              "      <td>1</td>\n",
              "      <td>1</td>\n",
              "      <td>2010</td>\n",
              "      <td>4</td>\n",
              "      <td>15</td>\n",
              "      <td>4</td>\n",
              "      <td>16</td>\n",
              "      <td>23.292363</td>\n",
              "    </tr>\n",
              "    <tr>\n",
              "      <th>119501</th>\n",
              "      <td>49.57</td>\n",
              "      <td>1</td>\n",
              "      <td>1</td>\n",
              "      <td>2010</td>\n",
              "      <td>4</td>\n",
              "      <td>23</td>\n",
              "      <td>20</td>\n",
              "      <td>49</td>\n",
              "      <td>21.747035</td>\n",
              "    </tr>\n",
              "    <tr>\n",
              "      <th>119668</th>\n",
              "      <td>49.57</td>\n",
              "      <td>1</td>\n",
              "      <td>1</td>\n",
              "      <td>2010</td>\n",
              "      <td>4</td>\n",
              "      <td>19</td>\n",
              "      <td>9</td>\n",
              "      <td>16</td>\n",
              "      <td>20.562647</td>\n",
              "    </tr>\n",
              "    <tr>\n",
              "      <th>119739</th>\n",
              "      <td>49.57</td>\n",
              "      <td>1</td>\n",
              "      <td>1</td>\n",
              "      <td>2010</td>\n",
              "      <td>4</td>\n",
              "      <td>12</td>\n",
              "      <td>13</td>\n",
              "      <td>30</td>\n",
              "      <td>21.155535</td>\n",
              "    </tr>\n",
              "  </tbody>\n",
              "</table>\n",
              "<p>700 rows × 9 columns</p>\n",
              "</div>"
            ],
            "text/plain": [
              "        fare_amount  fare_class  ...  Minutes  Total_distance\n",
              "158           49.57           1  ...       10       20.100177\n",
              "250           49.57           1  ...       31       22.440213\n",
              "330           49.57           1  ...        7       20.932646\n",
              "663           49.57           1  ...       31       22.585147\n",
              "740           49.00           1  ...        3       20.279862\n",
              "...             ...         ...  ...      ...             ...\n",
              "119314        49.57           1  ...       40       23.975990\n",
              "119454        49.57           1  ...       16       23.292363\n",
              "119501        49.57           1  ...       49       21.747035\n",
              "119668        49.57           1  ...       16       20.562647\n",
              "119739        49.57           1  ...       30       21.155535\n",
              "\n",
              "[700 rows x 9 columns]"
            ]
          },
          "metadata": {
            "tags": []
          },
          "execution_count": 302
        }
      ]
    },
    {
      "cell_type": "code",
      "metadata": {
        "colab": {
          "base_uri": "https://localhost:8080/",
          "height": 206
        },
        "id": "fH2w5YWKIl2d",
        "outputId": "ce9ee9aa-5a0f-4623-8ab5-46f9c4c821b8"
      },
      "source": [
        "df = df.drop(df[(df['fare_amount'] > 45) & (df['Total_distance'] < 25)].index)\r\n",
        "df.head()"
      ],
      "execution_count": 303,
      "outputs": [
        {
          "output_type": "execute_result",
          "data": {
            "text/html": [
              "<div>\n",
              "<style scoped>\n",
              "    .dataframe tbody tr th:only-of-type {\n",
              "        vertical-align: middle;\n",
              "    }\n",
              "\n",
              "    .dataframe tbody tr th {\n",
              "        vertical-align: top;\n",
              "    }\n",
              "\n",
              "    .dataframe thead th {\n",
              "        text-align: right;\n",
              "    }\n",
              "</style>\n",
              "<table border=\"1\" class=\"dataframe\">\n",
              "  <thead>\n",
              "    <tr style=\"text-align: right;\">\n",
              "      <th></th>\n",
              "      <th>fare_amount</th>\n",
              "      <th>fare_class</th>\n",
              "      <th>passenger_count</th>\n",
              "      <th>Year</th>\n",
              "      <th>Month</th>\n",
              "      <th>Day</th>\n",
              "      <th>Hours</th>\n",
              "      <th>Minutes</th>\n",
              "      <th>Total_distance</th>\n",
              "    </tr>\n",
              "  </thead>\n",
              "  <tbody>\n",
              "    <tr>\n",
              "      <th>0</th>\n",
              "      <td>6.5</td>\n",
              "      <td>0</td>\n",
              "      <td>1</td>\n",
              "      <td>2010</td>\n",
              "      <td>4</td>\n",
              "      <td>19</td>\n",
              "      <td>8</td>\n",
              "      <td>17</td>\n",
              "      <td>2.126312</td>\n",
              "    </tr>\n",
              "    <tr>\n",
              "      <th>2</th>\n",
              "      <td>10.1</td>\n",
              "      <td>1</td>\n",
              "      <td>2</td>\n",
              "      <td>2010</td>\n",
              "      <td>4</td>\n",
              "      <td>17</td>\n",
              "      <td>11</td>\n",
              "      <td>23</td>\n",
              "      <td>3.326763</td>\n",
              "    </tr>\n",
              "    <tr>\n",
              "      <th>4</th>\n",
              "      <td>19.7</td>\n",
              "      <td>1</td>\n",
              "      <td>1</td>\n",
              "      <td>2010</td>\n",
              "      <td>4</td>\n",
              "      <td>17</td>\n",
              "      <td>2</td>\n",
              "      <td>19</td>\n",
              "      <td>7.231321</td>\n",
              "    </tr>\n",
              "    <tr>\n",
              "      <th>6</th>\n",
              "      <td>4.9</td>\n",
              "      <td>0</td>\n",
              "      <td>1</td>\n",
              "      <td>2010</td>\n",
              "      <td>4</td>\n",
              "      <td>23</td>\n",
              "      <td>19</td>\n",
              "      <td>27</td>\n",
              "      <td>1.042304</td>\n",
              "    </tr>\n",
              "    <tr>\n",
              "      <th>7</th>\n",
              "      <td>4.9</td>\n",
              "      <td>0</td>\n",
              "      <td>1</td>\n",
              "      <td>2010</td>\n",
              "      <td>4</td>\n",
              "      <td>15</td>\n",
              "      <td>9</td>\n",
              "      <td>3</td>\n",
              "      <td>1.089064</td>\n",
              "    </tr>\n",
              "  </tbody>\n",
              "</table>\n",
              "</div>"
            ],
            "text/plain": [
              "   fare_amount  fare_class  passenger_count  ...  Hours  Minutes  Total_distance\n",
              "0          6.5           0                1  ...      8       17        2.126312\n",
              "2         10.1           1                2  ...     11       23        3.326763\n",
              "4         19.7           1                1  ...      2       19        7.231321\n",
              "6          4.9           0                1  ...     19       27        1.042304\n",
              "7          4.9           0                1  ...      9        3        1.089064\n",
              "\n",
              "[5 rows x 9 columns]"
            ]
          },
          "metadata": {
            "tags": []
          },
          "execution_count": 303
        }
      ]
    },
    {
      "cell_type": "code",
      "metadata": {
        "colab": {
          "base_uri": "https://localhost:8080/"
        },
        "id": "GztBJJYdIuwc",
        "outputId": "554f665d-63cc-4c17-e158-d8852d360f5f"
      },
      "source": [
        "df.shape"
      ],
      "execution_count": 304,
      "outputs": [
        {
          "output_type": "execute_result",
          "data": {
            "text/plain": [
              "(82787, 9)"
            ]
          },
          "metadata": {
            "tags": []
          },
          "execution_count": 304
        }
      ]
    },
    {
      "cell_type": "code",
      "metadata": {
        "colab": {
          "base_uri": "https://localhost:8080/"
        },
        "id": "2iqHlZ3uFuWz",
        "outputId": "1a633c78-c1a4-481b-ec3b-944029b25bb7"
      },
      "source": [
        "df['fare_amount'].max()"
      ],
      "execution_count": 305,
      "outputs": [
        {
          "output_type": "execute_result",
          "data": {
            "text/plain": [
              "49.57"
            ]
          },
          "metadata": {
            "tags": []
          },
          "execution_count": 305
        }
      ]
    },
    {
      "cell_type": "code",
      "metadata": {
        "colab": {
          "base_uri": "https://localhost:8080/",
          "height": 355
        },
        "id": "tOs1zdVrKC9y",
        "outputId": "c2b95c26-2214-4c77-c6b2-a85a7adfb199"
      },
      "source": [
        "sns.distplot(df[\"Total_distance\"], kde =True)"
      ],
      "execution_count": 306,
      "outputs": [
        {
          "output_type": "stream",
          "text": [
            "/usr/local/lib/python3.6/dist-packages/seaborn/distributions.py:2551: FutureWarning: `distplot` is a deprecated function and will be removed in a future version. Please adapt your code to use either `displot` (a figure-level function with similar flexibility) or `histplot` (an axes-level function for histograms).\n",
            "  warnings.warn(msg, FutureWarning)\n"
          ],
          "name": "stderr"
        },
        {
          "output_type": "execute_result",
          "data": {
            "text/plain": [
              "<matplotlib.axes._subplots.AxesSubplot at 0x7f1771b7ef28>"
            ]
          },
          "metadata": {
            "tags": []
          },
          "execution_count": 306
        },
        {
          "output_type": "display_data",
          "data": {
            "image/png": "[encoded data removed]",
            "text/plain": [
              "<Figure size 432x288 with 1 Axes>"
            ]
          },
          "metadata": {
            "tags": [],
            "needs_background": "light"
          }
        }
      ]
    },
    {
      "cell_type": "code",
      "metadata": {
        "colab": {
          "base_uri": "https://localhost:8080/",
          "height": 355
        },
        "id": "rqSSqulmKYl4",
        "outputId": "59fc6738-c266-4a6e-fe23-b1562e70d12f"
      },
      "source": [
        "sns.distplot(df[\"fare_amount\"], kde =True)"
      ],
      "execution_count": 307,
      "outputs": [
        {
          "output_type": "stream",
          "text": [
            "/usr/local/lib/python3.6/dist-packages/seaborn/distributions.py:2551: FutureWarning: `distplot` is a deprecated function and will be removed in a future version. Please adapt your code to use either `displot` (a figure-level function with similar flexibility) or `histplot` (an axes-level function for histograms).\n",
            "  warnings.warn(msg, FutureWarning)\n"
          ],
          "name": "stderr"
        },
        {
          "output_type": "execute_result",
          "data": {
            "text/plain": [
              "<matplotlib.axes._subplots.AxesSubplot at 0x7f1770369240>"
            ]
          },
          "metadata": {
            "tags": []
          },
          "execution_count": 307
        },
        {
          "output_type": "display_data",
          "data": {
            "image/png": "[encoded data removed]",
            "text/plain": [
              "<Figure size 432x288 with 1 Axes>"
            ]
          },
          "metadata": {
            "tags": [],
            "needs_background": "light"
          }
        }
      ]
    },
    {
      "cell_type": "code",
      "metadata": {
        "id": "at_wPWmB86I0",
        "colab": {
          "base_uri": "https://localhost:8080/",
          "height": 424
        },
        "outputId": "ba01941d-829d-48cf-82d2-18b6e8fe45c1"
      },
      "source": [
        "df[(df['fare_amount'] == 2.5) & (df['Total_distance'] > 0.5)]"
      ],
      "execution_count": 308,
      "outputs": [
        {
          "output_type": "execute_result",
          "data": {
            "text/html": [
              "<div>\n",
              "<style scoped>\n",
              "    .dataframe tbody tr th:only-of-type {\n",
              "        vertical-align: middle;\n",
              "    }\n",
              "\n",
              "    .dataframe tbody tr th {\n",
              "        vertical-align: top;\n",
              "    }\n",
              "\n",
              "    .dataframe thead th {\n",
              "        text-align: right;\n",
              "    }\n",
              "</style>\n",
              "<table border=\"1\" class=\"dataframe\">\n",
              "  <thead>\n",
              "    <tr style=\"text-align: right;\">\n",
              "      <th></th>\n",
              "      <th>fare_amount</th>\n",
              "      <th>fare_class</th>\n",
              "      <th>passenger_count</th>\n",
              "      <th>Year</th>\n",
              "      <th>Month</th>\n",
              "      <th>Day</th>\n",
              "      <th>Hours</th>\n",
              "      <th>Minutes</th>\n",
              "      <th>Total_distance</th>\n",
              "    </tr>\n",
              "  </thead>\n",
              "  <tbody>\n",
              "    <tr>\n",
              "      <th>1313</th>\n",
              "      <td>2.5</td>\n",
              "      <td>0</td>\n",
              "      <td>1</td>\n",
              "      <td>2010</td>\n",
              "      <td>4</td>\n",
              "      <td>19</td>\n",
              "      <td>19</td>\n",
              "      <td>29</td>\n",
              "      <td>7.165823</td>\n",
              "    </tr>\n",
              "    <tr>\n",
              "      <th>2757</th>\n",
              "      <td>2.5</td>\n",
              "      <td>0</td>\n",
              "      <td>1</td>\n",
              "      <td>2010</td>\n",
              "      <td>4</td>\n",
              "      <td>12</td>\n",
              "      <td>9</td>\n",
              "      <td>21</td>\n",
              "      <td>0.644529</td>\n",
              "    </tr>\n",
              "    <tr>\n",
              "      <th>3326</th>\n",
              "      <td>2.5</td>\n",
              "      <td>0</td>\n",
              "      <td>1</td>\n",
              "      <td>2010</td>\n",
              "      <td>4</td>\n",
              "      <td>19</td>\n",
              "      <td>22</td>\n",
              "      <td>27</td>\n",
              "      <td>1.904355</td>\n",
              "    </tr>\n",
              "    <tr>\n",
              "      <th>4972</th>\n",
              "      <td>2.5</td>\n",
              "      <td>0</td>\n",
              "      <td>1</td>\n",
              "      <td>2010</td>\n",
              "      <td>4</td>\n",
              "      <td>18</td>\n",
              "      <td>0</td>\n",
              "      <td>19</td>\n",
              "      <td>4.484539</td>\n",
              "    </tr>\n",
              "    <tr>\n",
              "      <th>5611</th>\n",
              "      <td>2.5</td>\n",
              "      <td>0</td>\n",
              "      <td>1</td>\n",
              "      <td>2010</td>\n",
              "      <td>4</td>\n",
              "      <td>17</td>\n",
              "      <td>7</td>\n",
              "      <td>58</td>\n",
              "      <td>14.338630</td>\n",
              "    </tr>\n",
              "    <tr>\n",
              "      <th>...</th>\n",
              "      <td>...</td>\n",
              "      <td>...</td>\n",
              "      <td>...</td>\n",
              "      <td>...</td>\n",
              "      <td>...</td>\n",
              "      <td>...</td>\n",
              "      <td>...</td>\n",
              "      <td>...</td>\n",
              "      <td>...</td>\n",
              "    </tr>\n",
              "    <tr>\n",
              "      <th>117488</th>\n",
              "      <td>2.5</td>\n",
              "      <td>0</td>\n",
              "      <td>1</td>\n",
              "      <td>2010</td>\n",
              "      <td>4</td>\n",
              "      <td>18</td>\n",
              "      <td>4</td>\n",
              "      <td>27</td>\n",
              "      <td>5.989705</td>\n",
              "    </tr>\n",
              "    <tr>\n",
              "      <th>117764</th>\n",
              "      <td>2.5</td>\n",
              "      <td>0</td>\n",
              "      <td>1</td>\n",
              "      <td>2010</td>\n",
              "      <td>4</td>\n",
              "      <td>11</td>\n",
              "      <td>5</td>\n",
              "      <td>27</td>\n",
              "      <td>1.915205</td>\n",
              "    </tr>\n",
              "    <tr>\n",
              "      <th>118864</th>\n",
              "      <td>2.5</td>\n",
              "      <td>0</td>\n",
              "      <td>1</td>\n",
              "      <td>2010</td>\n",
              "      <td>4</td>\n",
              "      <td>12</td>\n",
              "      <td>14</td>\n",
              "      <td>48</td>\n",
              "      <td>2.416321</td>\n",
              "    </tr>\n",
              "    <tr>\n",
              "      <th>119723</th>\n",
              "      <td>2.5</td>\n",
              "      <td>0</td>\n",
              "      <td>1</td>\n",
              "      <td>2010</td>\n",
              "      <td>4</td>\n",
              "      <td>16</td>\n",
              "      <td>7</td>\n",
              "      <td>45</td>\n",
              "      <td>1.962848</td>\n",
              "    </tr>\n",
              "    <tr>\n",
              "      <th>119921</th>\n",
              "      <td>2.5</td>\n",
              "      <td>0</td>\n",
              "      <td>1</td>\n",
              "      <td>2010</td>\n",
              "      <td>4</td>\n",
              "      <td>14</td>\n",
              "      <td>17</td>\n",
              "      <td>54</td>\n",
              "      <td>0.662020</td>\n",
              "    </tr>\n",
              "  </tbody>\n",
              "</table>\n",
              "<p>76 rows × 9 columns</p>\n",
              "</div>"
            ],
            "text/plain": [
              "        fare_amount  fare_class  ...  Minutes  Total_distance\n",
              "1313            2.5           0  ...       29        7.165823\n",
              "2757            2.5           0  ...       21        0.644529\n",
              "3326            2.5           0  ...       27        1.904355\n",
              "4972            2.5           0  ...       19        4.484539\n",
              "5611            2.5           0  ...       58       14.338630\n",
              "...             ...         ...  ...      ...             ...\n",
              "117488          2.5           0  ...       27        5.989705\n",
              "117764          2.5           0  ...       27        1.915205\n",
              "118864          2.5           0  ...       48        2.416321\n",
              "119723          2.5           0  ...       45        1.962848\n",
              "119921          2.5           0  ...       54        0.662020\n",
              "\n",
              "[76 rows x 9 columns]"
            ]
          },
          "metadata": {
            "tags": []
          },
          "execution_count": 308
        }
      ]
    },
    {
      "cell_type": "code",
      "metadata": {
        "id": "qBNUYoGc94hR",
        "colab": {
          "base_uri": "https://localhost:8080/",
          "height": 206
        },
        "outputId": "da8e40ec-3f63-401e-f04b-7b39e7dde51f"
      },
      "source": [
        "df = df.drop(df[(df['fare_amount'] == 2.5) & (df['Total_distance'] > 0.5)].index)\r\n",
        "df.head()"
      ],
      "execution_count": 309,
      "outputs": [
        {
          "output_type": "execute_result",
          "data": {
            "text/html": [
              "<div>\n",
              "<style scoped>\n",
              "    .dataframe tbody tr th:only-of-type {\n",
              "        vertical-align: middle;\n",
              "    }\n",
              "\n",
              "    .dataframe tbody tr th {\n",
              "        vertical-align: top;\n",
              "    }\n",
              "\n",
              "    .dataframe thead th {\n",
              "        text-align: right;\n",
              "    }\n",
              "</style>\n",
              "<table border=\"1\" class=\"dataframe\">\n",
              "  <thead>\n",
              "    <tr style=\"text-align: right;\">\n",
              "      <th></th>\n",
              "      <th>fare_amount</th>\n",
              "      <th>fare_class</th>\n",
              "      <th>passenger_count</th>\n",
              "      <th>Year</th>\n",
              "      <th>Month</th>\n",
              "      <th>Day</th>\n",
              "      <th>Hours</th>\n",
              "      <th>Minutes</th>\n",
              "      <th>Total_distance</th>\n",
              "    </tr>\n",
              "  </thead>\n",
              "  <tbody>\n",
              "    <tr>\n",
              "      <th>0</th>\n",
              "      <td>6.5</td>\n",
              "      <td>0</td>\n",
              "      <td>1</td>\n",
              "      <td>2010</td>\n",
              "      <td>4</td>\n",
              "      <td>19</td>\n",
              "      <td>8</td>\n",
              "      <td>17</td>\n",
              "      <td>2.126312</td>\n",
              "    </tr>\n",
              "    <tr>\n",
              "      <th>2</th>\n",
              "      <td>10.1</td>\n",
              "      <td>1</td>\n",
              "      <td>2</td>\n",
              "      <td>2010</td>\n",
              "      <td>4</td>\n",
              "      <td>17</td>\n",
              "      <td>11</td>\n",
              "      <td>23</td>\n",
              "      <td>3.326763</td>\n",
              "    </tr>\n",
              "    <tr>\n",
              "      <th>4</th>\n",
              "      <td>19.7</td>\n",
              "      <td>1</td>\n",
              "      <td>1</td>\n",
              "      <td>2010</td>\n",
              "      <td>4</td>\n",
              "      <td>17</td>\n",
              "      <td>2</td>\n",
              "      <td>19</td>\n",
              "      <td>7.231321</td>\n",
              "    </tr>\n",
              "    <tr>\n",
              "      <th>6</th>\n",
              "      <td>4.9</td>\n",
              "      <td>0</td>\n",
              "      <td>1</td>\n",
              "      <td>2010</td>\n",
              "      <td>4</td>\n",
              "      <td>23</td>\n",
              "      <td>19</td>\n",
              "      <td>27</td>\n",
              "      <td>1.042304</td>\n",
              "    </tr>\n",
              "    <tr>\n",
              "      <th>7</th>\n",
              "      <td>4.9</td>\n",
              "      <td>0</td>\n",
              "      <td>1</td>\n",
              "      <td>2010</td>\n",
              "      <td>4</td>\n",
              "      <td>15</td>\n",
              "      <td>9</td>\n",
              "      <td>3</td>\n",
              "      <td>1.089064</td>\n",
              "    </tr>\n",
              "  </tbody>\n",
              "</table>\n",
              "</div>"
            ],
            "text/plain": [
              "   fare_amount  fare_class  passenger_count  ...  Hours  Minutes  Total_distance\n",
              "0          6.5           0                1  ...      8       17        2.126312\n",
              "2         10.1           1                2  ...     11       23        3.326763\n",
              "4         19.7           1                1  ...      2       19        7.231321\n",
              "6          4.9           0                1  ...     19       27        1.042304\n",
              "7          4.9           0                1  ...      9        3        1.089064\n",
              "\n",
              "[5 rows x 9 columns]"
            ]
          },
          "metadata": {
            "tags": []
          },
          "execution_count": 309
        }
      ]
    },
    {
      "cell_type": "code",
      "metadata": {
        "colab": {
          "base_uri": "https://localhost:8080/",
          "height": 424
        },
        "id": "WLxCPlGrLPst",
        "outputId": "509fc7d3-be1f-4b8f-b990-cbdb38009ef9"
      },
      "source": [
        "df[(df['fare_amount'] > 3) &(df['Total_distance'] < 0.5)]"
      ],
      "execution_count": 310,
      "outputs": [
        {
          "output_type": "execute_result",
          "data": {
            "text/html": [
              "<div>\n",
              "<style scoped>\n",
              "    .dataframe tbody tr th:only-of-type {\n",
              "        vertical-align: middle;\n",
              "    }\n",
              "\n",
              "    .dataframe tbody tr th {\n",
              "        vertical-align: top;\n",
              "    }\n",
              "\n",
              "    .dataframe thead th {\n",
              "        text-align: right;\n",
              "    }\n",
              "</style>\n",
              "<table border=\"1\" class=\"dataframe\">\n",
              "  <thead>\n",
              "    <tr style=\"text-align: right;\">\n",
              "      <th></th>\n",
              "      <th>fare_amount</th>\n",
              "      <th>fare_class</th>\n",
              "      <th>passenger_count</th>\n",
              "      <th>Year</th>\n",
              "      <th>Month</th>\n",
              "      <th>Day</th>\n",
              "      <th>Hours</th>\n",
              "      <th>Minutes</th>\n",
              "      <th>Total_distance</th>\n",
              "    </tr>\n",
              "  </thead>\n",
              "  <tbody>\n",
              "    <tr>\n",
              "      <th>29</th>\n",
              "      <td>3.7</td>\n",
              "      <td>0</td>\n",
              "      <td>2</td>\n",
              "      <td>2010</td>\n",
              "      <td>4</td>\n",
              "      <td>20</td>\n",
              "      <td>22</td>\n",
              "      <td>21</td>\n",
              "      <td>0.469370</td>\n",
              "    </tr>\n",
              "    <tr>\n",
              "      <th>180</th>\n",
              "      <td>3.7</td>\n",
              "      <td>0</td>\n",
              "      <td>3</td>\n",
              "      <td>2010</td>\n",
              "      <td>4</td>\n",
              "      <td>16</td>\n",
              "      <td>1</td>\n",
              "      <td>32</td>\n",
              "      <td>0.358520</td>\n",
              "    </tr>\n",
              "    <tr>\n",
              "      <th>280</th>\n",
              "      <td>3.3</td>\n",
              "      <td>0</td>\n",
              "      <td>5</td>\n",
              "      <td>2010</td>\n",
              "      <td>4</td>\n",
              "      <td>20</td>\n",
              "      <td>12</td>\n",
              "      <td>20</td>\n",
              "      <td>0.419499</td>\n",
              "    </tr>\n",
              "    <tr>\n",
              "      <th>399</th>\n",
              "      <td>3.7</td>\n",
              "      <td>0</td>\n",
              "      <td>1</td>\n",
              "      <td>2010</td>\n",
              "      <td>4</td>\n",
              "      <td>20</td>\n",
              "      <td>19</td>\n",
              "      <td>30</td>\n",
              "      <td>0.458703</td>\n",
              "    </tr>\n",
              "    <tr>\n",
              "      <th>457</th>\n",
              "      <td>3.3</td>\n",
              "      <td>0</td>\n",
              "      <td>1</td>\n",
              "      <td>2010</td>\n",
              "      <td>4</td>\n",
              "      <td>20</td>\n",
              "      <td>10</td>\n",
              "      <td>30</td>\n",
              "      <td>0.389926</td>\n",
              "    </tr>\n",
              "    <tr>\n",
              "      <th>...</th>\n",
              "      <td>...</td>\n",
              "      <td>...</td>\n",
              "      <td>...</td>\n",
              "      <td>...</td>\n",
              "      <td>...</td>\n",
              "      <td>...</td>\n",
              "      <td>...</td>\n",
              "      <td>...</td>\n",
              "      <td>...</td>\n",
              "    </tr>\n",
              "    <tr>\n",
              "      <th>119767</th>\n",
              "      <td>4.1</td>\n",
              "      <td>0</td>\n",
              "      <td>1</td>\n",
              "      <td>2010</td>\n",
              "      <td>4</td>\n",
              "      <td>19</td>\n",
              "      <td>20</td>\n",
              "      <td>19</td>\n",
              "      <td>0.463221</td>\n",
              "    </tr>\n",
              "    <tr>\n",
              "      <th>119802</th>\n",
              "      <td>4.5</td>\n",
              "      <td>0</td>\n",
              "      <td>1</td>\n",
              "      <td>2010</td>\n",
              "      <td>4</td>\n",
              "      <td>18</td>\n",
              "      <td>3</td>\n",
              "      <td>59</td>\n",
              "      <td>0.257423</td>\n",
              "    </tr>\n",
              "    <tr>\n",
              "      <th>119918</th>\n",
              "      <td>4.5</td>\n",
              "      <td>0</td>\n",
              "      <td>1</td>\n",
              "      <td>2010</td>\n",
              "      <td>4</td>\n",
              "      <td>15</td>\n",
              "      <td>1</td>\n",
              "      <td>18</td>\n",
              "      <td>0.270599</td>\n",
              "    </tr>\n",
              "    <tr>\n",
              "      <th>119923</th>\n",
              "      <td>3.3</td>\n",
              "      <td>0</td>\n",
              "      <td>1</td>\n",
              "      <td>2010</td>\n",
              "      <td>4</td>\n",
              "      <td>19</td>\n",
              "      <td>21</td>\n",
              "      <td>47</td>\n",
              "      <td>0.407083</td>\n",
              "    </tr>\n",
              "    <tr>\n",
              "      <th>119941</th>\n",
              "      <td>4.1</td>\n",
              "      <td>0</td>\n",
              "      <td>1</td>\n",
              "      <td>2010</td>\n",
              "      <td>4</td>\n",
              "      <td>19</td>\n",
              "      <td>13</td>\n",
              "      <td>57</td>\n",
              "      <td>0.440992</td>\n",
              "    </tr>\n",
              "  </tbody>\n",
              "</table>\n",
              "<p>1632 rows × 9 columns</p>\n",
              "</div>"
            ],
            "text/plain": [
              "        fare_amount  fare_class  ...  Minutes  Total_distance\n",
              "29              3.7           0  ...       21        0.469370\n",
              "180             3.7           0  ...       32        0.358520\n",
              "280             3.3           0  ...       20        0.419499\n",
              "399             3.7           0  ...       30        0.458703\n",
              "457             3.3           0  ...       30        0.389926\n",
              "...             ...         ...  ...      ...             ...\n",
              "119767          4.1           0  ...       19        0.463221\n",
              "119802          4.5           0  ...       59        0.257423\n",
              "119918          4.5           0  ...       18        0.270599\n",
              "119923          3.3           0  ...       47        0.407083\n",
              "119941          4.1           0  ...       57        0.440992\n",
              "\n",
              "[1632 rows x 9 columns]"
            ]
          },
          "metadata": {
            "tags": []
          },
          "execution_count": 310
        }
      ]
    },
    {
      "cell_type": "code",
      "metadata": {
        "colab": {
          "base_uri": "https://localhost:8080/",
          "height": 206
        },
        "id": "gFHSrSDrLP4L",
        "outputId": "92b7fa5a-4ef5-419a-e335-2455f229786c"
      },
      "source": [
        "df = df.drop(df[(df['fare_amount'] > 3) & (df['Total_distance'] < 0.5)].index)\r\n",
        "df.head()"
      ],
      "execution_count": 311,
      "outputs": [
        {
          "output_type": "execute_result",
          "data": {
            "text/html": [
              "<div>\n",
              "<style scoped>\n",
              "    .dataframe tbody tr th:only-of-type {\n",
              "        vertical-align: middle;\n",
              "    }\n",
              "\n",
              "    .dataframe tbody tr th {\n",
              "        vertical-align: top;\n",
              "    }\n",
              "\n",
              "    .dataframe thead th {\n",
              "        text-align: right;\n",
              "    }\n",
              "</style>\n",
              "<table border=\"1\" class=\"dataframe\">\n",
              "  <thead>\n",
              "    <tr style=\"text-align: right;\">\n",
              "      <th></th>\n",
              "      <th>fare_amount</th>\n",
              "      <th>fare_class</th>\n",
              "      <th>passenger_count</th>\n",
              "      <th>Year</th>\n",
              "      <th>Month</th>\n",
              "      <th>Day</th>\n",
              "      <th>Hours</th>\n",
              "      <th>Minutes</th>\n",
              "      <th>Total_distance</th>\n",
              "    </tr>\n",
              "  </thead>\n",
              "  <tbody>\n",
              "    <tr>\n",
              "      <th>0</th>\n",
              "      <td>6.5</td>\n",
              "      <td>0</td>\n",
              "      <td>1</td>\n",
              "      <td>2010</td>\n",
              "      <td>4</td>\n",
              "      <td>19</td>\n",
              "      <td>8</td>\n",
              "      <td>17</td>\n",
              "      <td>2.126312</td>\n",
              "    </tr>\n",
              "    <tr>\n",
              "      <th>2</th>\n",
              "      <td>10.1</td>\n",
              "      <td>1</td>\n",
              "      <td>2</td>\n",
              "      <td>2010</td>\n",
              "      <td>4</td>\n",
              "      <td>17</td>\n",
              "      <td>11</td>\n",
              "      <td>23</td>\n",
              "      <td>3.326763</td>\n",
              "    </tr>\n",
              "    <tr>\n",
              "      <th>4</th>\n",
              "      <td>19.7</td>\n",
              "      <td>1</td>\n",
              "      <td>1</td>\n",
              "      <td>2010</td>\n",
              "      <td>4</td>\n",
              "      <td>17</td>\n",
              "      <td>2</td>\n",
              "      <td>19</td>\n",
              "      <td>7.231321</td>\n",
              "    </tr>\n",
              "    <tr>\n",
              "      <th>6</th>\n",
              "      <td>4.9</td>\n",
              "      <td>0</td>\n",
              "      <td>1</td>\n",
              "      <td>2010</td>\n",
              "      <td>4</td>\n",
              "      <td>23</td>\n",
              "      <td>19</td>\n",
              "      <td>27</td>\n",
              "      <td>1.042304</td>\n",
              "    </tr>\n",
              "    <tr>\n",
              "      <th>7</th>\n",
              "      <td>4.9</td>\n",
              "      <td>0</td>\n",
              "      <td>1</td>\n",
              "      <td>2010</td>\n",
              "      <td>4</td>\n",
              "      <td>15</td>\n",
              "      <td>9</td>\n",
              "      <td>3</td>\n",
              "      <td>1.089064</td>\n",
              "    </tr>\n",
              "  </tbody>\n",
              "</table>\n",
              "</div>"
            ],
            "text/plain": [
              "   fare_amount  fare_class  passenger_count  ...  Hours  Minutes  Total_distance\n",
              "0          6.5           0                1  ...      8       17        2.126312\n",
              "2         10.1           1                2  ...     11       23        3.326763\n",
              "4         19.7           1                1  ...      2       19        7.231321\n",
              "6          4.9           0                1  ...     19       27        1.042304\n",
              "7          4.9           0                1  ...      9        3        1.089064\n",
              "\n",
              "[5 rows x 9 columns]"
            ]
          },
          "metadata": {
            "tags": []
          },
          "execution_count": 311
        }
      ]
    },
    {
      "cell_type": "code",
      "metadata": {
        "colab": {
          "base_uri": "https://localhost:8080/"
        },
        "id": "sdP0srgMLQEK",
        "outputId": "44fcb24e-504c-4262-dc56-83cc1eae28ee"
      },
      "source": [
        "IQR = df['fare_amount'].quantile(0.75)-df['fare_amount'].quantile(0.25)\r\n",
        "IQR"
      ],
      "execution_count": 312,
      "outputs": [
        {
          "output_type": "execute_result",
          "data": {
            "text/plain": [
              "5.2"
            ]
          },
          "metadata": {
            "tags": []
          },
          "execution_count": 312
        }
      ]
    },
    {
      "cell_type": "code",
      "metadata": {
        "colab": {
          "base_uri": "https://localhost:8080/"
        },
        "id": "GVugUvUaLQHO",
        "outputId": "e65f4021-9dd3-494b-8d06-91a9e6c58dc5"
      },
      "source": [
        "l = df['fare_amount'].quantile(0.25) -(IQR * 3)\r\n",
        "u =df['fare_amount'].quantile(0.75) +(IQR * 3)\r\n",
        "print(l, u)"
      ],
      "execution_count": 313,
      "outputs": [
        {
          "output_type": "stream",
          "text": [
            "-10.3 26.1\n"
          ],
          "name": "stdout"
        }
      ]
    },
    {
      "cell_type": "code",
      "metadata": {
        "colab": {
          "base_uri": "https://localhost:8080/"
        },
        "id": "VGSGG-yqLQJs",
        "outputId": "50679da4-47f5-41bc-b698-b891595735b9"
      },
      "source": [
        "IQR = df['Total_distance'].quantile(0.75)-df['Total_distance'].quantile(0.25)\r\n",
        "IQR"
      ],
      "execution_count": 314,
      "outputs": [
        {
          "output_type": "execute_result",
          "data": {
            "text/plain": [
              "2.9873523479626805"
            ]
          },
          "metadata": {
            "tags": []
          },
          "execution_count": 314
        }
      ]
    },
    {
      "cell_type": "code",
      "metadata": {
        "colab": {
          "base_uri": "https://localhost:8080/"
        },
        "id": "a6smVm8OLQNM",
        "outputId": "42e64314-c1f2-4279-cddf-9e244dec1d18"
      },
      "source": [
        "l = df['Total_distance'].quantile(0.25) -(IQR * 3)\r\n",
        "u =df['Total_distance'].quantile(0.75) +(IQR * 3)\r\n",
        "print(l, u)"
      ],
      "execution_count": 315,
      "outputs": [
        {
          "output_type": "stream",
          "text": [
            "-7.620976063299531 13.290490372439233\n"
          ],
          "name": "stdout"
        }
      ]
    },
    {
      "cell_type": "code",
      "metadata": {
        "id": "pTKcq3NbLQQf"
      },
      "source": [
        "df.loc[df['fare_amount']>26.1, 'fare_amount'] = 26.1\r\n",
        "df.loc[df['Total_distance']>13.2, 'Total_distance'] = 13.2"
      ],
      "execution_count": 316,
      "outputs": []
    },
    {
      "cell_type": "code",
      "metadata": {
        "colab": {
          "base_uri": "https://localhost:8080/",
          "height": 206
        },
        "id": "Isy-P2kpOKAE",
        "outputId": "f59d324e-6f81-4ee5-b7ee-3e8513f88677"
      },
      "source": [
        "df.head()"
      ],
      "execution_count": 317,
      "outputs": [
        {
          "output_type": "execute_result",
          "data": {
            "text/html": [
              "<div>\n",
              "<style scoped>\n",
              "    .dataframe tbody tr th:only-of-type {\n",
              "        vertical-align: middle;\n",
              "    }\n",
              "\n",
              "    .dataframe tbody tr th {\n",
              "        vertical-align: top;\n",
              "    }\n",
              "\n",
              "    .dataframe thead th {\n",
              "        text-align: right;\n",
              "    }\n",
              "</style>\n",
              "<table border=\"1\" class=\"dataframe\">\n",
              "  <thead>\n",
              "    <tr style=\"text-align: right;\">\n",
              "      <th></th>\n",
              "      <th>fare_amount</th>\n",
              "      <th>fare_class</th>\n",
              "      <th>passenger_count</th>\n",
              "      <th>Year</th>\n",
              "      <th>Month</th>\n",
              "      <th>Day</th>\n",
              "      <th>Hours</th>\n",
              "      <th>Minutes</th>\n",
              "      <th>Total_distance</th>\n",
              "    </tr>\n",
              "  </thead>\n",
              "  <tbody>\n",
              "    <tr>\n",
              "      <th>0</th>\n",
              "      <td>6.5</td>\n",
              "      <td>0</td>\n",
              "      <td>1</td>\n",
              "      <td>2010</td>\n",
              "      <td>4</td>\n",
              "      <td>19</td>\n",
              "      <td>8</td>\n",
              "      <td>17</td>\n",
              "      <td>2.126312</td>\n",
              "    </tr>\n",
              "    <tr>\n",
              "      <th>2</th>\n",
              "      <td>10.1</td>\n",
              "      <td>1</td>\n",
              "      <td>2</td>\n",
              "      <td>2010</td>\n",
              "      <td>4</td>\n",
              "      <td>17</td>\n",
              "      <td>11</td>\n",
              "      <td>23</td>\n",
              "      <td>3.326763</td>\n",
              "    </tr>\n",
              "    <tr>\n",
              "      <th>4</th>\n",
              "      <td>19.7</td>\n",
              "      <td>1</td>\n",
              "      <td>1</td>\n",
              "      <td>2010</td>\n",
              "      <td>4</td>\n",
              "      <td>17</td>\n",
              "      <td>2</td>\n",
              "      <td>19</td>\n",
              "      <td>7.231321</td>\n",
              "    </tr>\n",
              "    <tr>\n",
              "      <th>6</th>\n",
              "      <td>4.9</td>\n",
              "      <td>0</td>\n",
              "      <td>1</td>\n",
              "      <td>2010</td>\n",
              "      <td>4</td>\n",
              "      <td>23</td>\n",
              "      <td>19</td>\n",
              "      <td>27</td>\n",
              "      <td>1.042304</td>\n",
              "    </tr>\n",
              "    <tr>\n",
              "      <th>7</th>\n",
              "      <td>4.9</td>\n",
              "      <td>0</td>\n",
              "      <td>1</td>\n",
              "      <td>2010</td>\n",
              "      <td>4</td>\n",
              "      <td>15</td>\n",
              "      <td>9</td>\n",
              "      <td>3</td>\n",
              "      <td>1.089064</td>\n",
              "    </tr>\n",
              "  </tbody>\n",
              "</table>\n",
              "</div>"
            ],
            "text/plain": [
              "   fare_amount  fare_class  passenger_count  ...  Hours  Minutes  Total_distance\n",
              "0          6.5           0                1  ...      8       17        2.126312\n",
              "2         10.1           1                2  ...     11       23        3.326763\n",
              "4         19.7           1                1  ...      2       19        7.231321\n",
              "6          4.9           0                1  ...     19       27        1.042304\n",
              "7          4.9           0                1  ...      9        3        1.089064\n",
              "\n",
              "[5 rows x 9 columns]"
            ]
          },
          "metadata": {
            "tags": []
          },
          "execution_count": 317
        }
      ]
    },
    {
      "cell_type": "code",
      "metadata": {
        "colab": {
          "base_uri": "https://localhost:8080/",
          "height": 680
        },
        "id": "WtVd5GE6OKC3",
        "outputId": "b1b7d547-2ac4-4b2f-c475-0d26bf293a98"
      },
      "source": [
        "fig, ax = plt.subplots(2,2,figsize = (30,15))\r\n",
        "sns.boxplot(df[\"fare_amount\"], ax=ax[0,0], color = \"blue\")\r\n",
        "sns.boxplot(df[\"Total_distance\"], ax=ax[0,1], color = \"black\")\r\n",
        "sns.boxplot(df[\"fare_class\"], ax=ax[1,0], color = \"magenta\")\r\n",
        "sns.boxplot(df[\"passenger_count\"], ax=ax[1,1])"
      ],
      "execution_count": 318,
      "outputs": [
        {
          "output_type": "stream",
          "text": [
            "/usr/local/lib/python3.6/dist-packages/seaborn/_decorators.py:43: FutureWarning: Pass the following variable as a keyword arg: x. From version 0.12, the only valid positional argument will be `data`, and passing other arguments without an explicit keyword will result in an error or misinterpretation.\n",
            "  FutureWarning\n",
            "/usr/local/lib/python3.6/dist-packages/seaborn/_decorators.py:43: FutureWarning: Pass the following variable as a keyword arg: x. From version 0.12, the only valid positional argument will be `data`, and passing other arguments without an explicit keyword will result in an error or misinterpretation.\n",
            "  FutureWarning\n",
            "/usr/local/lib/python3.6/dist-packages/seaborn/_decorators.py:43: FutureWarning: Pass the following variable as a keyword arg: x. From version 0.12, the only valid positional argument will be `data`, and passing other arguments without an explicit keyword will result in an error or misinterpretation.\n",
            "  FutureWarning\n",
            "/usr/local/lib/python3.6/dist-packages/seaborn/_decorators.py:43: FutureWarning: Pass the following variable as a keyword arg: x. From version 0.12, the only valid positional argument will be `data`, and passing other arguments without an explicit keyword will result in an error or misinterpretation.\n",
            "  FutureWarning\n"
          ],
          "name": "stderr"
        },
        {
          "output_type": "execute_result",
          "data": {
            "text/plain": [
              "<matplotlib.axes._subplots.AxesSubplot at 0x7f17701e5a58>"
            ]
          },
          "metadata": {
            "tags": []
          },
          "execution_count": 318
        },
        {
          "output_type": "display_data",
          "data": {
            "image/png": "[encoded data removed]",
            "text/plain": [
              "<Figure size 2160x1080 with 4 Axes>"
            ]
          },
          "metadata": {
            "tags": [],
            "needs_background": "light"
          }
        }
      ]
    },
    {
      "cell_type": "code",
      "metadata": {
        "colab": {
          "base_uri": "https://localhost:8080/"
        },
        "id": "tI8TxPwDOKLQ",
        "outputId": "6e9e1d8c-7fe3-44aa-d0b2-29bbc10d0c79"
      },
      "source": [
        "x=df.drop(['fare_amount'], axis = 1)\r\n",
        "y=df['fare_amount']\r\n",
        "x.shape, y.shape"
      ],
      "execution_count": 319,
      "outputs": [
        {
          "output_type": "execute_result",
          "data": {
            "text/plain": [
              "((81079, 8), (81079,))"
            ]
          },
          "metadata": {
            "tags": []
          },
          "execution_count": 319
        }
      ]
    },
    {
      "cell_type": "markdown",
      "metadata": {
        "id": "ElKJmBl6_2nC"
      },
      "source": [
        "TRAIN TEST SPLIT"
      ]
    },
    {
      "cell_type": "code",
      "metadata": {
        "id": "-8xQ04qKP91f"
      },
      "source": [
        "from sklearn.model_selection import train_test_split\r\n",
        "x_train, x_test, y_train, y_test = train_test_split(x,y, test_size =0.20, random_state = 3)"
      ],
      "execution_count": 320,
      "outputs": []
    },
    {
      "cell_type": "code",
      "metadata": {
        "colab": {
          "base_uri": "https://localhost:8080/",
          "height": 206
        },
        "id": "r7MqBcDmFOEV",
        "outputId": "362e6765-33da-4a47-9473-14565ad81e36"
      },
      "source": [
        "x_train.head()"
      ],
      "execution_count": 321,
      "outputs": [
        {
          "output_type": "execute_result",
          "data": {
            "text/html": [
              "<div>\n",
              "<style scoped>\n",
              "    .dataframe tbody tr th:only-of-type {\n",
              "        vertical-align: middle;\n",
              "    }\n",
              "\n",
              "    .dataframe tbody tr th {\n",
              "        vertical-align: top;\n",
              "    }\n",
              "\n",
              "    .dataframe thead th {\n",
              "        text-align: right;\n",
              "    }\n",
              "</style>\n",
              "<table border=\"1\" class=\"dataframe\">\n",
              "  <thead>\n",
              "    <tr style=\"text-align: right;\">\n",
              "      <th></th>\n",
              "      <th>fare_class</th>\n",
              "      <th>passenger_count</th>\n",
              "      <th>Year</th>\n",
              "      <th>Month</th>\n",
              "      <th>Day</th>\n",
              "      <th>Hours</th>\n",
              "      <th>Minutes</th>\n",
              "      <th>Total_distance</th>\n",
              "    </tr>\n",
              "  </thead>\n",
              "  <tbody>\n",
              "    <tr>\n",
              "      <th>81153</th>\n",
              "      <td>0</td>\n",
              "      <td>1</td>\n",
              "      <td>2010</td>\n",
              "      <td>4</td>\n",
              "      <td>13</td>\n",
              "      <td>14</td>\n",
              "      <td>56</td>\n",
              "      <td>1.935879</td>\n",
              "    </tr>\n",
              "    <tr>\n",
              "      <th>118988</th>\n",
              "      <td>0</td>\n",
              "      <td>1</td>\n",
              "      <td>2010</td>\n",
              "      <td>4</td>\n",
              "      <td>20</td>\n",
              "      <td>20</td>\n",
              "      <td>57</td>\n",
              "      <td>2.264570</td>\n",
              "    </tr>\n",
              "    <tr>\n",
              "      <th>29858</th>\n",
              "      <td>0</td>\n",
              "      <td>1</td>\n",
              "      <td>2010</td>\n",
              "      <td>4</td>\n",
              "      <td>23</td>\n",
              "      <td>17</td>\n",
              "      <td>24</td>\n",
              "      <td>1.879367</td>\n",
              "    </tr>\n",
              "    <tr>\n",
              "      <th>16030</th>\n",
              "      <td>1</td>\n",
              "      <td>1</td>\n",
              "      <td>2010</td>\n",
              "      <td>4</td>\n",
              "      <td>13</td>\n",
              "      <td>22</td>\n",
              "      <td>31</td>\n",
              "      <td>8.612698</td>\n",
              "    </tr>\n",
              "    <tr>\n",
              "      <th>37527</th>\n",
              "      <td>1</td>\n",
              "      <td>1</td>\n",
              "      <td>2010</td>\n",
              "      <td>4</td>\n",
              "      <td>13</td>\n",
              "      <td>15</td>\n",
              "      <td>48</td>\n",
              "      <td>3.432658</td>\n",
              "    </tr>\n",
              "  </tbody>\n",
              "</table>\n",
              "</div>"
            ],
            "text/plain": [
              "        fare_class  passenger_count  Year  ...  Hours  Minutes  Total_distance\n",
              "81153            0                1  2010  ...     14       56        1.935879\n",
              "118988           0                1  2010  ...     20       57        2.264570\n",
              "29858            0                1  2010  ...     17       24        1.879367\n",
              "16030            1                1  2010  ...     22       31        8.612698\n",
              "37527            1                1  2010  ...     15       48        3.432658\n",
              "\n",
              "[5 rows x 8 columns]"
            ]
          },
          "metadata": {
            "tags": []
          },
          "execution_count": 321
        }
      ]
    },
    {
      "cell_type": "code",
      "metadata": {
        "id": "-9AlOjWqLNFV"
      },
      "source": [
        "X_train = x_train.values\r\n",
        "X_test = x_test.values"
      ],
      "execution_count": 322,
      "outputs": []
    },
    {
      "cell_type": "markdown",
      "metadata": {
        "id": "ey0NShNG_6An"
      },
      "source": [
        "## XGBOOST REGRESSOR MODEL"
      ]
    },
    {
      "cell_type": "code",
      "metadata": {
        "id": "St_hQ9lz6DnM"
      },
      "source": [
        "import xgboost"
      ],
      "execution_count": 323,
      "outputs": []
    },
    {
      "cell_type": "code",
      "metadata": {
        "colab": {
          "base_uri": "https://localhost:8080/"
        },
        "id": "yYtFfYj96DX5",
        "outputId": "18cf7a3a-fcda-4075-cc30-1f763e8848c7"
      },
      "source": [
        "clf=xgboost.XGBRegressor()\r\n",
        "clf.fit(X_train,y_train)"
      ],
      "execution_count": 324,
      "outputs": [
        {
          "output_type": "stream",
          "text": [
            "[12:04:40] WARNING: /workspace/src/objective/regression_obj.cu:152: reg:linear is now deprecated in favor of reg:squarederror.\n"
          ],
          "name": "stdout"
        },
        {
          "output_type": "execute_result",
          "data": {
            "text/plain": [
              "XGBRegressor(base_score=0.5, booster='gbtree', colsample_bylevel=1,\n",
              "             colsample_bynode=1, colsample_bytree=1, gamma=0,\n",
              "             importance_type='gain', learning_rate=0.1, max_delta_step=0,\n",
              "             max_depth=3, min_child_weight=1, missing=None, n_estimators=100,\n",
              "             n_jobs=1, nthread=None, objective='reg:linear', random_state=0,\n",
              "             reg_alpha=0, reg_lambda=1, scale_pos_weight=1, seed=None,\n",
              "             silent=None, subsample=1, verbosity=1)"
            ]
          },
          "metadata": {
            "tags": []
          },
          "execution_count": 324
        }
      ]
    },
    {
      "cell_type": "code",
      "metadata": {
        "id": "wFOjFV0s6DJk"
      },
      "source": [
        "y_pred=clf.predict(X_test)"
      ],
      "execution_count": 325,
      "outputs": []
    },
    {
      "cell_type": "code",
      "metadata": {
        "colab": {
          "base_uri": "https://localhost:8080/"
        },
        "id": "LeJH49qt6C1K",
        "outputId": "b16f92a6-3c55-4491-c58b-7e4f384a590a"
      },
      "source": [
        "from sklearn import metrics\r\n",
        "print('R square:', np.sqrt(metrics.r2_score(y_test, y_pred)))\r\n",
        "print('MAE:', metrics.mean_absolute_error(y_test, y_pred))\r\n",
        "print('MSE:', metrics.mean_squared_error(y_test, y_pred))\r\n",
        "print('RMSE:', np.sqrt(metrics.mean_squared_error(y_test, y_pred)))"
      ],
      "execution_count": 326,
      "outputs": [
        {
          "output_type": "stream",
          "text": [
            "R square: 0.9728594069370998\n",
            "MAE: 0.7908645112066358\n",
            "MSE: 1.3558305550547123\n",
            "RMSE: 1.164401371973905\n"
          ],
          "name": "stdout"
        }
      ]
    },
    {
      "cell_type": "markdown",
      "metadata": {
        "id": "mTNRPl5z_-kl"
      },
      "source": [
        "HYPERPARAMETER TUNING"
      ]
    },
    {
      "cell_type": "code",
      "metadata": {
        "colab": {
          "base_uri": "https://localhost:8080/"
        },
        "id": "Qh80QEPA-s-B",
        "outputId": "162fb118-d63d-4bfd-de24-6d282b64985f"
      },
      "source": [
        "clf=xgboost.XGBRegressor(base_score=0.5, booster='gbtree', colsample_bylevel=1,\r\n",
        "             colsample_bynode=1, colsample_bytree=1, gamma=0,\r\n",
        "             importance_type='gain', learning_rate=0.05, max_delta_step=0,\r\n",
        "             max_depth=25, min_child_weight=6, missing=None, n_estimators=1500,\r\n",
        "             n_jobs=1, nthread=None, objective='reg:linear', random_state=0,\r\n",
        "             reg_alpha=0, reg_lambda=1, scale_pos_weight=1, seed=None,\r\n",
        "             silent=None, subsample=1, verbosity=1)\r\n",
        "clf.fit(X_train,y_train)"
      ],
      "execution_count": 327,
      "outputs": [
        {
          "output_type": "stream",
          "text": [
            "[12:04:42] WARNING: /workspace/src/objective/regression_obj.cu:152: reg:linear is now deprecated in favor of reg:squarederror.\n"
          ],
          "name": "stdout"
        },
        {
          "output_type": "execute_result",
          "data": {
            "text/plain": [
              "XGBRegressor(base_score=0.5, booster='gbtree', colsample_bylevel=1,\n",
              "             colsample_bynode=1, colsample_bytree=1, gamma=0,\n",
              "             importance_type='gain', learning_rate=0.05, max_delta_step=0,\n",
              "             max_depth=25, min_child_weight=6, missing=None, n_estimators=1500,\n",
              "             n_jobs=1, nthread=None, objective='reg:linear', random_state=0,\n",
              "             reg_alpha=0, reg_lambda=1, scale_pos_weight=1, seed=None,\n",
              "             silent=None, subsample=1, verbosity=1)"
            ]
          },
          "metadata": {
            "tags": []
          },
          "execution_count": 327
        }
      ]
    },
    {
      "cell_type": "code",
      "metadata": {
        "id": "C1uvKU2l-tJR"
      },
      "source": [
        "y_pred=clf.predict(X_test)"
      ],
      "execution_count": 328,
      "outputs": []
    },
    {
      "cell_type": "code",
      "metadata": {
        "colab": {
          "base_uri": "https://localhost:8080/"
        },
        "id": "-CbFk8pT-tSP",
        "outputId": "974826fd-c361-4f37-dfe0-e94930a6a12a"
      },
      "source": [
        "from sklearn import metrics\r\n",
        "print('R square:', np.sqrt(metrics.r2_score(y_test, y_pred)))\r\n",
        "print('MAE:', metrics.mean_absolute_error(y_test, y_pred))\r\n",
        "print('MSE:', metrics.mean_squared_error(y_test, y_pred))\r\n",
        "print('RMSE:', np.sqrt(metrics.mean_squared_error(y_test, y_pred)))"
      ],
      "execution_count": 329,
      "outputs": [
        {
          "output_type": "stream",
          "text": [
            "R square: 0.9670280496693623\n",
            "MAE: 0.8584819788661096\n",
            "MSE: 1.6422721817874457\n",
            "RMSE: 1.2815116783656113\n"
          ],
          "name": "stdout"
        }
      ]
    },
    {
      "cell_type": "code",
      "metadata": {
        "id": "4kPtFcIx_z02"
      },
      "source": [
        "def predict_exit(sample_value):\r\n",
        "  \r\n",
        "  # Convert list to numpy array\r\n",
        "  sample_value = np.array(sample_value)\r\n",
        "\r\n",
        "  # Reshape because sample_value contains only 1 record\r\n",
        "  sample_value = sample_value.reshape(1, -1)\r\n",
        "\r\n",
        "  \r\n",
        "\r\n",
        "  return clf.predict(sample_value)"
      ],
      "execution_count": 330,
      "outputs": []
    },
    {
      "cell_type": "code",
      "metadata": {
        "colab": {
          "base_uri": "https://localhost:8080/"
        },
        "id": "Ky34HyCS_0EC",
        "outputId": "d77fbf7d-f023-4522-a6be-553962efa2b3"
      },
      "source": [
        "sample_value = [0, 1, 2010, 4, 19, 8, 17, 2.126312]\r\n",
        "#sample_value = [2.126312, 2010, 4, 19, 17, 0, 8, 1]\r\n",
        "predict_exit(sample_value)"
      ],
      "execution_count": 331,
      "outputs": [
        {
          "output_type": "execute_result",
          "data": {
            "text/plain": [
              "array([7.0422688], dtype=float32)"
            ]
          },
          "metadata": {
            "tags": []
          },
          "execution_count": 331
        }
      ]
    },
    {
      "cell_type": "code",
      "metadata": {
        "colab": {
          "base_uri": "https://localhost:8080/"
        },
        "id": "jnpFXFJP_0af",
        "outputId": "52074813-81fa-4485-edc8-12084346d7dc"
      },
      "source": [
        "sample_value = [1, 2, 2010, 4, 17, 11, 23, 3.326763]\r\n",
        "predict_exit(sample_value)"
      ],
      "execution_count": 333,
      "outputs": [
        {
          "output_type": "execute_result",
          "data": {
            "text/plain": [
              "array([10.118976], dtype=float32)"
            ]
          },
          "metadata": {
            "tags": []
          },
          "execution_count": 333
        }
      ]
    },
    {
      "cell_type": "code",
      "metadata": {
        "colab": {
          "base_uri": "https://localhost:8080/"
        },
        "id": "e787JTH5I4aN",
        "outputId": "e05c2cd8-f8b6-483b-a7b3-d6d2a2afe5a4"
      },
      "source": [
        "sample_value = [1, \t1, \t2010 ,\t4 ,\t17 ,\t2 ,\t19, \t7.231321]\r\n",
        "predict_exit(sample_value)"
      ],
      "execution_count": 336,
      "outputs": [
        {
          "output_type": "execute_result",
          "data": {
            "text/plain": [
              "array([19.399702], dtype=float32)"
            ]
          },
          "metadata": {
            "tags": []
          },
          "execution_count": 336
        }
      ]
    }
  ]
}